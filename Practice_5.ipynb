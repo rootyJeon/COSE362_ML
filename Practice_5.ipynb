{
  "nbformat": 4,
  "nbformat_minor": 0,
  "metadata": {
    "colab": {
      "provenance": [],
      "collapsed_sections": []
    },
    "kernelspec": {
      "name": "python3",
      "display_name": "Python 3"
    },
    "accelerator": "GPU",
    "gpuClass": "standard"
  },
  "cells": [
    {
      "cell_type": "markdown",
      "metadata": {
        "id": "dyN7SUq86VtQ"
      },
      "source": [
        "# **실습 5차시: Model Evaluation (모델 성능 평가)**\n",
        "\n",
        "실습 내용:\n",
        "\n",
        "*   Accuracy\n",
        "*   Precision and Recall\n",
        "*   F1 Score\n",
        "*   ROC-AUC\n",
        "*   Cross-validation\n",
        "\n",
        "**기한: 2022년 11월 15일 화요일 오후 1시 59분**"
      ]
    },
    {
      "cell_type": "markdown",
      "metadata": {
        "id": "p6a3yjfRaNmz"
      },
      "source": [
        "# **1. Accuracy(정확도)**"
      ]
    },
    {
      "cell_type": "markdown",
      "metadata": {
        "id": "My5hO6hGTYuk"
      },
      "source": [
        "Confusion matrix:\n",
        "\n",
        "<img src=https://miro.medium.com/max/712/1*Z54JgbS4DUwWSknhDCvNTQ.png width=300px>\n",
        "\n",
        "\n",
        "- True Positive(TP): 참양성\n",
        "- False Positive(FP): 위양성\n",
        "- True Negative(TN): 참음성\n",
        "- False Negative(FN): 위음성"
      ]
    },
    {
      "cell_type": "markdown",
      "source": [
        "분류 모델을 만든 후 다음 단계는 모델의 예측 능력을 평가해야합니다. \n",
        "\n",
        "모델의 성능을 평가하는 가장 간단한 방법은 모델의 정확도를 계산하는 것입니다.\n",
        "\n",
        "\n",
        "$$\\frac{\\text{True Positives + True Negatives}}{\\text{True Positives + True Negatives + False Positives + False Negatives}}$$"
      ],
      "metadata": {
        "id": "-8lSlufc8T9U"
      }
    },
    {
      "cell_type": "code",
      "metadata": {
        "id": "VdcTlGL5aRGC"
      },
      "source": [
        "labels_A = [0, 0, 0, 0, 0, 0, 0, 1, 1, 1]\n",
        "guesses_A =[0, 0, 0, 0, 0, 0, 0, 1, 0, 0]\n",
        "\n",
        "labels_B = [0, 0, 0, 0, 0, 0, 0, 1, 1, 1]\n",
        "guesses_B =[1, 1, 1, 1, 1, 1, 1, 0, 1, 1]"
      ],
      "execution_count": 1,
      "outputs": []
    },
    {
      "cell_type": "code",
      "metadata": {
        "id": "ZG03uRE_aRrk"
      },
      "source": [
        "# 위의 예제로 TP, FP, TN, FN을 직접 계산해보는 함수입니다\n",
        "def cal_metrics(labels, guesses):\n",
        "  true_positives = 0\n",
        "  true_negatives = 0\n",
        "  false_positives = 0\n",
        "  false_negatives = 0\n",
        "  for i in range(len(guesses)):\n",
        "    #True Positives\n",
        "    if labels[i] == 1 and guesses[i] == 1:\n",
        "      true_positives += 1\n",
        "    #True Negatives\n",
        "    if labels[i] == 0 and guesses[i] == 0:\n",
        "      true_negatives += 1\n",
        "    #False Positives\n",
        "    if labels[i] == 0 and guesses[i] == 1:\n",
        "      false_positives += 1\n",
        "    #False Negatives\n",
        "    if labels[i] == 1 and guesses[i] == 0:\n",
        "      false_negatives += 1\n",
        "  return true_positives, true_negatives, false_positives, false_negatives"
      ],
      "execution_count": 2,
      "outputs": []
    },
    {
      "cell_type": "code",
      "metadata": {
        "id": "cdaypOK_U-Sn",
        "colab": {
          "base_uri": "https://localhost:8080/"
        },
        "outputId": "d995f5ee-cd9e-430e-c502-7c7988602a58"
      },
      "source": [
        "# A에 대하여 accuracy를 계산해봅니다.\n",
        "TP_A, TN_A, FP_A, FN_A = cal_metrics(labels_A, guesses_A)\n",
        "\n",
        "accuracy_A = (TP_A + TN_A) / len(guesses_A)\n",
        "print(accuracy_A)"
      ],
      "execution_count": 3,
      "outputs": [
        {
          "output_type": "stream",
          "name": "stdout",
          "text": [
            "0.8\n"
          ]
        }
      ]
    },
    {
      "cell_type": "code",
      "metadata": {
        "id": "H4HsyONE6YT3",
        "colab": {
          "base_uri": "https://localhost:8080/"
        },
        "outputId": "5dfb5650-eab5-40f8-e053-ad7bf17218d5"
      },
      "source": [
        "# B에 대하여 accuracy를 계산해봅니다.\n",
        "TP_B, TN_B, FP_B, FN_B = cal_metrics(labels_B, guesses_B)\n",
        "\n",
        "accuracy_B = (TP_B + TN_B) / len(guesses_B)\n",
        "print(accuracy_B)"
      ],
      "execution_count": 4,
      "outputs": [
        {
          "output_type": "stream",
          "name": "stdout",
          "text": [
            "0.2\n"
          ]
        }
      ]
    },
    {
      "cell_type": "markdown",
      "metadata": {
        "id": "rdFl6L2haYgh"
      },
      "source": [
        "# **2. Precision(정밀도)**\n",
        "\n",
        "**양성으로 식별된 사례 중 실제로 양성이었던 사례의 비율**\n",
        "\n",
        "- Precision은 양성으로 예측된 것 (TP + FP) 중 얼마나 많은 샘플이 진짜 양성 (TP) 인지 측정합니다.\n",
        "\n",
        "- 직관적으로 Precision은 negative sample을 positive sample로 예측하지 않는 분류기의 성능을 나타냅니다. \n",
        "\n",
        "- Precision은 거짓 양성(FP)의 수를 줄이는 것이 목표일 때 성능 지표로 사용합니다.\n",
        "\n",
        "- 위양성이 생성되지 않는 모델의 정밀도는 1.0입니다.\n",
        "\n",
        "- 예시) 모델의 정밀도는 0.5일때, 어떠한 종양이 악성일 가능성이 있다고 예측하면 예측 정확도가 50% 입니다.\n",
        "\n",
        "\n",
        "\n",
        "$$\\frac{\\text{True Positives}}{\\text{True Positives + False Positives}}$$"
      ]
    },
    {
      "cell_type": "code",
      "metadata": {
        "id": "xtdy6N-baaq1",
        "colab": {
          "base_uri": "https://localhost:8080/"
        },
        "outputId": "f6b3ff74-d0ad-47ed-846f-1c772d5e8c0f"
      },
      "source": [
        "# precision_A을 계산해봅니다.\n",
        "TP_A / (TP_A + FP_A)"
      ],
      "execution_count": 5,
      "outputs": [
        {
          "output_type": "execute_result",
          "data": {
            "text/plain": [
              "1.0"
            ]
          },
          "metadata": {},
          "execution_count": 5
        }
      ]
    },
    {
      "cell_type": "code",
      "metadata": {
        "id": "05qAx0nS7WB6",
        "colab": {
          "base_uri": "https://localhost:8080/"
        },
        "outputId": "d6272f3b-b8cf-43bf-9d7a-6ae15f6ecf03"
      },
      "source": [
        "# precision_B을 계산해봅니다.\n",
        "TP_B / (TP_B + FP_B)"
      ],
      "execution_count": 6,
      "outputs": [
        {
          "output_type": "execute_result",
          "data": {
            "text/plain": [
              "0.2222222222222222"
            ]
          },
          "metadata": {},
          "execution_count": 6
        }
      ]
    },
    {
      "cell_type": "markdown",
      "metadata": {
        "id": "ewAmVnQLaUsQ"
      },
      "source": [
        "# **3. Recall(재현율)**\n",
        "\n",
        "**실제 양성 중 정확히 양성이라고 식별된 사례의 비율**\n",
        "\n",
        "- Recall은 전체 양성 샘플 (TP + FN) 중에서 얼마나 많은 샘플이 양성 클래스(TP)로 분류되는지를 측정합니다. \n",
        "\n",
        "- 직관적으로, Recall은 분류기가 positive sample들을 올바르게 찾는 성능을 평가합니다. \n",
        "\n",
        "- Recall은 모든 양성 샘플을 식별해야 할 때 성능 지표로 사용됩니다. 즉, 거짓 음성(FN)을 피하는 것이 중요할 때 입니다.\n",
        "\n",
        "- 위음성을 생성하지 않는 모델의 재현율은 1.0입니다.\n",
        "\n",
        "- 예시) 모델의 재현율은 0.11일때, 모든 악성 종양의 11% 를 올바르게 식별합니다..\n",
        "\n",
        "$$\\frac{\\text{True Positives}}{\\text{True Positives + False Negatives}}$$"
      ]
    },
    {
      "cell_type": "markdown",
      "metadata": {
        "id": "RNZcRtuzVJKA"
      },
      "source": [
        "Precision과 Recall은 서로 상충하는 metric입니다. 하나가 내려가면 다른 하나가 올라갑니다."
      ]
    },
    {
      "cell_type": "code",
      "metadata": {
        "id": "sp-C6r34aW42",
        "colab": {
          "base_uri": "https://localhost:8080/"
        },
        "outputId": "54ed9e82-4d61-445f-da7f-bd7fb33c1d14"
      },
      "source": [
        "# Recall_A을 계산해봅니다.\n",
        "recall_A = TP_A / (TP_A + FN_A)\n",
        "print(recall_A)"
      ],
      "execution_count": 7,
      "outputs": [
        {
          "output_type": "stream",
          "name": "stdout",
          "text": [
            "0.3333333333333333\n"
          ]
        }
      ]
    },
    {
      "cell_type": "code",
      "metadata": {
        "id": "JnOXyFk66zhV",
        "colab": {
          "base_uri": "https://localhost:8080/"
        },
        "outputId": "f24ebfb3-34a0-443b-b3bc-c06028c91396"
      },
      "source": [
        "# Recall_B을 계산해봅니다.\n",
        "recall_B = TP_B / (TP_B + FN_B)\n",
        "print(recall_B)"
      ],
      "execution_count": 8,
      "outputs": [
        {
          "output_type": "stream",
          "name": "stdout",
          "text": [
            "0.6666666666666666\n"
          ]
        }
      ]
    },
    {
      "cell_type": "markdown",
      "source": [
        "####**Side Note:**\n",
        "\n",
        "<img src=https://miro.medium.com/max/712/1*Z54JgbS4DUwWSknhDCvNTQ.png width=300px>\n",
        "\n",
        "- Precision(정밀도): 양성으로 식별된 사례 중 실제로 양성이었던 사례의 비율\n",
        "\n",
        "$$\\text{Precision} = \\frac{TP}{TP + FP}$$\n",
        "\n",
        "- Recall(재현율): 실제 양성 중 정확히 양성이라고 식별된 사례의 비율\n",
        "\n",
        "$$\\text{Recall} = \\frac{TP}{TP + FN}$$\n",
        "\n",
        "- Sensitivity(민감도) = recall: 실제로 양성인 사람이 검사에서 양성으로 판정될 확률\n",
        "\n",
        "$$\\text{Sensitivity} = \\frac{TP}{TP + FN}$$\n",
        "\n",
        "- Specificity(특이도): 실제로 음성인 사람이 검사에서 음성으로 판정될 확률\n",
        "\n",
        "$$\\text{Specificity} = \\frac{TN}{FP + TN}$$"
      ],
      "metadata": {
        "id": "WnI0rIy-97ek"
      }
    },
    {
      "cell_type": "markdown",
      "metadata": {
        "id": "BNqF50H2ab9d"
      },
      "source": [
        "# **4. F1 Score**\n",
        "\n",
        "모델의 성능을 완전히 평가하려면 정밀도와 재현율을 모두 검사해야 합니다. F1 score을 통해 Precision과 Recall 모두를 고려하는 하나의 metric을 제시할 수 있습니다. F1 score은 Precision과 Recall의 조화평균(harmonic mean)입니다. 조화평균은 n개의 양수에 대하여 그 역수들을 산술평균한 것의 역수를 말합니다.\n",
        "\n",
        "$$2*\\frac{\\text{Precision} * \\text{Recall}}{\\text{Precision} + \\text{Recall}}$$"
      ]
    },
    {
      "cell_type": "markdown",
      "metadata": {
        "id": "ybqdqugsYSrd"
      },
      "source": [
        "F1 score는 Precision과 Recall을 하나의 metric으로 결합합니다. 산술 평균보다 조화 평균을 사용하여 F1 score을 계산하는 이유는 Precision이나 Recall이 0일 때 F1 score이 낮아지기를 원하기 때문입니다.\n",
        "\n",
        "- 예를 들어, Recall = 1이고 Precision = 0.01인 모델이 있다고 가정합니다. Precision이 너무 낮기 때문에 이 모델에 문제가 있을 가능성이 높습니다. 따라서 F1 score은 Precision과 Recall을 같이 고려하므로 불균형한 이진 분류 데이터셋에서는 정확도보다 더 나은 지표가 될 수 있습니다.\n",
        "\n",
        "산술평균(arithmetic mean)을 사용한 F1 score은 다음과 같습니다.\n",
        "\n",
        "$$\\frac{1 + 0.01}{2} = 0.505$$\n",
        "\n",
        "너무 높습니다. 따라서 조화 평균을 사용한 F1 score은 다음과 같습니다.\n",
        "\n",
        "$$2*\\frac{1 * 0.01}{1 + 0.01} = 0.019$$\n",
        "\n",
        "산술 평균을 사용한 F1 score은 분류기의 성능을 더욱 정확하게 파악하는데 도움이 됩니다."
      ]
    },
    {
      "cell_type": "code",
      "metadata": {
        "id": "_8TykySDahVS",
        "colab": {
          "base_uri": "https://localhost:8080/"
        },
        "outputId": "06447181-fbb5-4fc3-e1b9-06cb73842f47"
      },
      "source": [
        "# F1 score을 계산해봅니다.\n",
        "precision_A = TP_A / (TP_A + FP_A)\n",
        "\n",
        "f1_A = 2 * (precision_A * recall_A) / (precision_A + recall_A)\n",
        "print(f1_A)"
      ],
      "execution_count": 9,
      "outputs": [
        {
          "output_type": "stream",
          "name": "stdout",
          "text": [
            "0.5\n"
          ]
        }
      ]
    },
    {
      "cell_type": "code",
      "metadata": {
        "id": "WZnOAcaF8Ikv",
        "colab": {
          "base_uri": "https://localhost:8080/"
        },
        "outputId": "8c2584d3-fa45-4861-c7be-4dc2ce7850e4"
      },
      "source": [
        "# F1 score을 계산해봅니다.\n",
        "precision_B = TP_B / (TP_B + FP_B)\n",
        "\n",
        "f1_B = 2 * (precision_B * recall_B) / (precision_B + recall_B)\n",
        "print(f1_B)"
      ],
      "execution_count": 10,
      "outputs": [
        {
          "output_type": "stream",
          "name": "stdout",
          "text": [
            "0.3333333333333333\n"
          ]
        }
      ]
    },
    {
      "cell_type": "markdown",
      "metadata": {
        "id": "YOuknqxAajem"
      },
      "source": [
        "# **5. Scikit-Learn**\n",
        "\n",
        "Scikit_learn 라이브러리에는 위의 metric들을 간단하게 계산해주는 함수들이 있습니다."
      ]
    },
    {
      "cell_type": "code",
      "metadata": {
        "id": "z5McLaohak_I"
      },
      "source": [
        "from sklearn.metrics import accuracy_score, recall_score, precision_score, f1_score\n",
        "\n",
        "labels = [1, 0, 0, 1, 1, 1, 0, 1, 1, 1]\n",
        "guesses = [0, 1, 1, 1, 1, 0, 1, 0, 1, 0]"
      ],
      "execution_count": 11,
      "outputs": []
    },
    {
      "cell_type": "code",
      "metadata": {
        "id": "0CrlZuAya-eH",
        "colab": {
          "base_uri": "https://localhost:8080/"
        },
        "outputId": "d957c65f-1de0-40c0-886d-9ec45ee74be7"
      },
      "source": [
        "# 정확도, recall, precision, F1 score을 계산해봅니다.\n",
        "print(accuracy_score(labels, guesses))\n",
        "print(recall_score(labels, guesses))\n",
        "print(precision_score(labels, guesses))\n",
        "print(f1_score(labels, guesses))"
      ],
      "execution_count": 12,
      "outputs": [
        {
          "output_type": "stream",
          "name": "stdout",
          "text": [
            "0.3\n",
            "0.42857142857142855\n",
            "0.5\n",
            "0.4615384615384615\n"
          ]
        }
      ]
    },
    {
      "cell_type": "markdown",
      "metadata": {
        "id": "SwrZjwCdLq18"
      },
      "source": [
        "# **6. Binary Classification and Model Evaluation**\n",
        "\n",
        "\n",
        "\n"
      ]
    },
    {
      "cell_type": "markdown",
      "metadata": {
        "id": "0IJyiWE1LxPw"
      },
      "source": [
        "## 6-1. Dataset\n",
        "  \n",
        "이번 실습은 [California Housing Dataset](https://www.kaggle.com/camnugent/california-housing-prices)를 사용합니다. 이 데이터는 미국의 1990년 인구 조사 데이터를 기반으로 캘리포니아 특정 지역의 주택에 관한 것입니다.\n",
        "\n",
        "1. longitude: 집이 서쪽으로 얼마나 멀리 떨어져 있는지 나타내는 척도이며, 값이 더 높은 것은 서쪽으로 더 멀리 떨어져 있습니다.\n",
        "2. latitude: 집이 북쪽으로 얼마나 멀리 떨어져 있는지 나타내는 척도이며, 더 높은 값이 더 북쪽입니다.\n",
        "3. housing_median_age: 블록 내 주택의 연식입니다. 숫자가 낮으면 새 건물입니다.\n",
        "4. total_rooms: 블록 내의 방 개수입니다.\n",
        "5. total_bedrooms: 한 블록 내의 총 침실 개수입니다.\n",
        "6. population: 한 블록 내의 총 인구 수입니다.\n",
        "7. households: 한 블록에 대한 총 가구 수입니다.\n",
        "8. median_income: 주택 블록 내 가구의 중위소득입니다.\n",
        "9. medium_house_value: 블록 내 가구의 평균 주택 값(미국 달러로 측정)입니다."
      ]
    },
    {
      "cell_type": "code",
      "metadata": {
        "id": "FGj5fCQt6QxG"
      },
      "source": [
        "import pandas as pd \n",
        "\n",
        "train_df = pd.read_csv(\"https://download.mlcc.google.com/mledu-datasets/california_housing_train.csv\")\n",
        "test_df = pd.read_csv(\"https://download.mlcc.google.com/mledu-datasets/california_housing_test.csv\")"
      ],
      "execution_count": 13,
      "outputs": []
    },
    {
      "cell_type": "code",
      "metadata": {
        "id": "tfn-7FaVDwWC",
        "colab": {
          "base_uri": "https://localhost:8080/",
          "height": 341
        },
        "outputId": "24895483-0a13-4e4f-8b6b-470e697d08f9"
      },
      "source": [
        "train_df.describe()"
      ],
      "execution_count": 14,
      "outputs": [
        {
          "output_type": "execute_result",
          "data": {
            "text/plain": [
              "          longitude      latitude  housing_median_age   total_rooms  \\\n",
              "count  17000.000000  17000.000000        17000.000000  17000.000000   \n",
              "mean    -119.562108     35.625225           28.589353   2643.664412   \n",
              "std        2.005166      2.137340           12.586937   2179.947071   \n",
              "min     -124.350000     32.540000            1.000000      2.000000   \n",
              "25%     -121.790000     33.930000           18.000000   1462.000000   \n",
              "50%     -118.490000     34.250000           29.000000   2127.000000   \n",
              "75%     -118.000000     37.720000           37.000000   3151.250000   \n",
              "max     -114.310000     41.950000           52.000000  37937.000000   \n",
              "\n",
              "       total_bedrooms    population    households  median_income  \\\n",
              "count    17000.000000  17000.000000  17000.000000   17000.000000   \n",
              "mean       539.410824   1429.573941    501.221941       3.883578   \n",
              "std        421.499452   1147.852959    384.520841       1.908157   \n",
              "min          1.000000      3.000000      1.000000       0.499900   \n",
              "25%        297.000000    790.000000    282.000000       2.566375   \n",
              "50%        434.000000   1167.000000    409.000000       3.544600   \n",
              "75%        648.250000   1721.000000    605.250000       4.767000   \n",
              "max       6445.000000  35682.000000   6082.000000      15.000100   \n",
              "\n",
              "       median_house_value  \n",
              "count        17000.000000  \n",
              "mean        207300.912353  \n",
              "std         115983.764387  \n",
              "min          14999.000000  \n",
              "25%         119400.000000  \n",
              "50%         180400.000000  \n",
              "75%         265000.000000  \n",
              "max         500001.000000  "
            ],
            "text/html": [
              "\n",
              "  <div id=\"df-810e924e-33e3-4e64-a2fd-273578144390\">\n",
              "    <div class=\"colab-df-container\">\n",
              "      <div>\n",
              "<style scoped>\n",
              "    .dataframe tbody tr th:only-of-type {\n",
              "        vertical-align: middle;\n",
              "    }\n",
              "\n",
              "    .dataframe tbody tr th {\n",
              "        vertical-align: top;\n",
              "    }\n",
              "\n",
              "    .dataframe thead th {\n",
              "        text-align: right;\n",
              "    }\n",
              "</style>\n",
              "<table border=\"1\" class=\"dataframe\">\n",
              "  <thead>\n",
              "    <tr style=\"text-align: right;\">\n",
              "      <th></th>\n",
              "      <th>longitude</th>\n",
              "      <th>latitude</th>\n",
              "      <th>housing_median_age</th>\n",
              "      <th>total_rooms</th>\n",
              "      <th>total_bedrooms</th>\n",
              "      <th>population</th>\n",
              "      <th>households</th>\n",
              "      <th>median_income</th>\n",
              "      <th>median_house_value</th>\n",
              "    </tr>\n",
              "  </thead>\n",
              "  <tbody>\n",
              "    <tr>\n",
              "      <th>count</th>\n",
              "      <td>17000.000000</td>\n",
              "      <td>17000.000000</td>\n",
              "      <td>17000.000000</td>\n",
              "      <td>17000.000000</td>\n",
              "      <td>17000.000000</td>\n",
              "      <td>17000.000000</td>\n",
              "      <td>17000.000000</td>\n",
              "      <td>17000.000000</td>\n",
              "      <td>17000.000000</td>\n",
              "    </tr>\n",
              "    <tr>\n",
              "      <th>mean</th>\n",
              "      <td>-119.562108</td>\n",
              "      <td>35.625225</td>\n",
              "      <td>28.589353</td>\n",
              "      <td>2643.664412</td>\n",
              "      <td>539.410824</td>\n",
              "      <td>1429.573941</td>\n",
              "      <td>501.221941</td>\n",
              "      <td>3.883578</td>\n",
              "      <td>207300.912353</td>\n",
              "    </tr>\n",
              "    <tr>\n",
              "      <th>std</th>\n",
              "      <td>2.005166</td>\n",
              "      <td>2.137340</td>\n",
              "      <td>12.586937</td>\n",
              "      <td>2179.947071</td>\n",
              "      <td>421.499452</td>\n",
              "      <td>1147.852959</td>\n",
              "      <td>384.520841</td>\n",
              "      <td>1.908157</td>\n",
              "      <td>115983.764387</td>\n",
              "    </tr>\n",
              "    <tr>\n",
              "      <th>min</th>\n",
              "      <td>-124.350000</td>\n",
              "      <td>32.540000</td>\n",
              "      <td>1.000000</td>\n",
              "      <td>2.000000</td>\n",
              "      <td>1.000000</td>\n",
              "      <td>3.000000</td>\n",
              "      <td>1.000000</td>\n",
              "      <td>0.499900</td>\n",
              "      <td>14999.000000</td>\n",
              "    </tr>\n",
              "    <tr>\n",
              "      <th>25%</th>\n",
              "      <td>-121.790000</td>\n",
              "      <td>33.930000</td>\n",
              "      <td>18.000000</td>\n",
              "      <td>1462.000000</td>\n",
              "      <td>297.000000</td>\n",
              "      <td>790.000000</td>\n",
              "      <td>282.000000</td>\n",
              "      <td>2.566375</td>\n",
              "      <td>119400.000000</td>\n",
              "    </tr>\n",
              "    <tr>\n",
              "      <th>50%</th>\n",
              "      <td>-118.490000</td>\n",
              "      <td>34.250000</td>\n",
              "      <td>29.000000</td>\n",
              "      <td>2127.000000</td>\n",
              "      <td>434.000000</td>\n",
              "      <td>1167.000000</td>\n",
              "      <td>409.000000</td>\n",
              "      <td>3.544600</td>\n",
              "      <td>180400.000000</td>\n",
              "    </tr>\n",
              "    <tr>\n",
              "      <th>75%</th>\n",
              "      <td>-118.000000</td>\n",
              "      <td>37.720000</td>\n",
              "      <td>37.000000</td>\n",
              "      <td>3151.250000</td>\n",
              "      <td>648.250000</td>\n",
              "      <td>1721.000000</td>\n",
              "      <td>605.250000</td>\n",
              "      <td>4.767000</td>\n",
              "      <td>265000.000000</td>\n",
              "    </tr>\n",
              "    <tr>\n",
              "      <th>max</th>\n",
              "      <td>-114.310000</td>\n",
              "      <td>41.950000</td>\n",
              "      <td>52.000000</td>\n",
              "      <td>37937.000000</td>\n",
              "      <td>6445.000000</td>\n",
              "      <td>35682.000000</td>\n",
              "      <td>6082.000000</td>\n",
              "      <td>15.000100</td>\n",
              "      <td>500001.000000</td>\n",
              "    </tr>\n",
              "  </tbody>\n",
              "</table>\n",
              "</div>\n",
              "      <button class=\"colab-df-convert\" onclick=\"convertToInteractive('df-810e924e-33e3-4e64-a2fd-273578144390')\"\n",
              "              title=\"Convert this dataframe to an interactive table.\"\n",
              "              style=\"display:none;\">\n",
              "        \n",
              "  <svg xmlns=\"http://www.w3.org/2000/svg\" height=\"24px\"viewBox=\"0 0 24 24\"\n",
              "       width=\"24px\">\n",
              "    <path d=\"M0 0h24v24H0V0z\" fill=\"none\"/>\n",
              "    <path d=\"M18.56 5.44l.94 2.06.94-2.06 2.06-.94-2.06-.94-.94-2.06-.94 2.06-2.06.94zm-11 1L8.5 8.5l.94-2.06 2.06-.94-2.06-.94L8.5 2.5l-.94 2.06-2.06.94zm10 10l.94 2.06.94-2.06 2.06-.94-2.06-.94-.94-2.06-.94 2.06-2.06.94z\"/><path d=\"M17.41 7.96l-1.37-1.37c-.4-.4-.92-.59-1.43-.59-.52 0-1.04.2-1.43.59L10.3 9.45l-7.72 7.72c-.78.78-.78 2.05 0 2.83L4 21.41c.39.39.9.59 1.41.59.51 0 1.02-.2 1.41-.59l7.78-7.78 2.81-2.81c.8-.78.8-2.07 0-2.86zM5.41 20L4 18.59l7.72-7.72 1.47 1.35L5.41 20z\"/>\n",
              "  </svg>\n",
              "      </button>\n",
              "      \n",
              "  <style>\n",
              "    .colab-df-container {\n",
              "      display:flex;\n",
              "      flex-wrap:wrap;\n",
              "      gap: 12px;\n",
              "    }\n",
              "\n",
              "    .colab-df-convert {\n",
              "      background-color: #E8F0FE;\n",
              "      border: none;\n",
              "      border-radius: 50%;\n",
              "      cursor: pointer;\n",
              "      display: none;\n",
              "      fill: #1967D2;\n",
              "      height: 32px;\n",
              "      padding: 0 0 0 0;\n",
              "      width: 32px;\n",
              "    }\n",
              "\n",
              "    .colab-df-convert:hover {\n",
              "      background-color: #E2EBFA;\n",
              "      box-shadow: 0px 1px 2px rgba(60, 64, 67, 0.3), 0px 1px 3px 1px rgba(60, 64, 67, 0.15);\n",
              "      fill: #174EA6;\n",
              "    }\n",
              "\n",
              "    [theme=dark] .colab-df-convert {\n",
              "      background-color: #3B4455;\n",
              "      fill: #D2E3FC;\n",
              "    }\n",
              "\n",
              "    [theme=dark] .colab-df-convert:hover {\n",
              "      background-color: #434B5C;\n",
              "      box-shadow: 0px 1px 3px 1px rgba(0, 0, 0, 0.15);\n",
              "      filter: drop-shadow(0px 1px 2px rgba(0, 0, 0, 0.3));\n",
              "      fill: #FFFFFF;\n",
              "    }\n",
              "  </style>\n",
              "\n",
              "      <script>\n",
              "        const buttonEl =\n",
              "          document.querySelector('#df-810e924e-33e3-4e64-a2fd-273578144390 button.colab-df-convert');\n",
              "        buttonEl.style.display =\n",
              "          google.colab.kernel.accessAllowed ? 'block' : 'none';\n",
              "\n",
              "        async function convertToInteractive(key) {\n",
              "          const element = document.querySelector('#df-810e924e-33e3-4e64-a2fd-273578144390');\n",
              "          const dataTable =\n",
              "            await google.colab.kernel.invokeFunction('convertToInteractive',\n",
              "                                                     [key], {});\n",
              "          if (!dataTable) return;\n",
              "\n",
              "          const docLinkHtml = 'Like what you see? Visit the ' +\n",
              "            '<a target=\"_blank\" href=https://colab.research.google.com/notebooks/data_table.ipynb>data table notebook</a>'\n",
              "            + ' to learn more about interactive tables.';\n",
              "          element.innerHTML = '';\n",
              "          dataTable['output_type'] = 'display_data';\n",
              "          await google.colab.output.renderOutput(dataTable, element);\n",
              "          const docLink = document.createElement('div');\n",
              "          docLink.innerHTML = docLinkHtml;\n",
              "          element.appendChild(docLink);\n",
              "        }\n",
              "      </script>\n",
              "    </div>\n",
              "  </div>\n",
              "  "
            ]
          },
          "metadata": {},
          "execution_count": 14
        }
      ]
    },
    {
      "cell_type": "markdown",
      "metadata": {
        "id": "4MQuiRFwL7zn"
      },
      "source": [
        "## 6-2. Z-score Normalization\n",
        "\n",
        "여러 feature이 존재하는 데이터로 모델을 훈련시키는 경우 각 피쳐의 값은 거의 동일한 범위를 가져야합니다. 예를 들어 한 feature의 범위가 500 ~ 100,000이고 다른 feature의 범위가 2 ~ 12인 경우 모델을 훈련하기가 어렵거나 불가능합니다.\n",
        "\n",
        "이번 실습에서 다룰 정규화 방법은 각 raw value(레이블 포함)을 Z-score으로 변환하여 정규화하는 방식입니다. **Z-score**는 특정 raw value에 대한 평균으로부터의 표준 편차의 개수입니다. 예를 들어, 다음과 같은 특성을 가진 feature이 있다고 가정합니다.\n",
        "\n",
        "  * 평균은 60 입니다.\n",
        "  * 표준편차는 10 입니다.\n",
        "\n",
        "75인 raw value는 Z-score이 +1.5이 될 것입니다:\n",
        "\n",
        "```\n",
        "  Z-score = (75 - 60) / 10 = +1.5\n",
        "```\n",
        "\n",
        "38인 raw value는 Z-score이 -2.2가 될 것입니다:\n",
        "\n",
        "```\n",
        "  Z-score = (38 - 60) / 10 = -2.2\n",
        "```"
      ]
    },
    {
      "cell_type": "markdown",
      "metadata": {
        "id": "OcJB34JzSmcY"
      },
      "source": [
        "Z-score 정규화 공식은 다음과 같습니다.\n",
        "\n",
        "$$\\frac{value - \\mu}{\\sigma}$$\n",
        "\n",
        "여기서 $\\mu$는 평균값이고 $\\sigma$는 표준 편차입니다. raw value가 feature의 모든 값의 평균과 정확히 같으면 0으로 정규화됩니다. 평균 아래에 있으면 음수가 되고 평균 위에 있으면 양수가 됩니다. Z-score의 크기는 표준 편차에 의해 결정됩니다. 정규화되지 않은 데이터에 큰 표준 편차가 있으면 정규화 값이 0에 가깝습니다.\n"
      ]
    },
    {
      "cell_type": "code",
      "source": [
        "train_df.columns"
      ],
      "metadata": {
        "id": "yy_JpDuLhEHX",
        "colab": {
          "base_uri": "https://localhost:8080/"
        },
        "outputId": "4ba413f4-b089-4dcf-aeb0-de3374439a46"
      },
      "execution_count": 15,
      "outputs": [
        {
          "output_type": "execute_result",
          "data": {
            "text/plain": [
              "Index(['longitude', 'latitude', 'housing_median_age', 'total_rooms',\n",
              "       'total_bedrooms', 'population', 'households', 'median_income',\n",
              "       'median_house_value'],\n",
              "      dtype='object')"
            ]
          },
          "metadata": {},
          "execution_count": 15
        }
      ]
    },
    {
      "cell_type": "code",
      "source": [
        "import seaborn as ans\n",
        "\n",
        "ans.scatterplot(x=train_df.total_rooms, y=train_df.housing_median_age)"
      ],
      "metadata": {
        "id": "HSBikHtYhEJt",
        "colab": {
          "base_uri": "https://localhost:8080/",
          "height": 297
        },
        "outputId": "5c6c137a-2113-4901-985d-146c93c1832c"
      },
      "execution_count": 16,
      "outputs": [
        {
          "output_type": "execute_result",
          "data": {
            "text/plain": [
              "<matplotlib.axes._subplots.AxesSubplot at 0x7f5189adac10>"
            ]
          },
          "metadata": {},
          "execution_count": 16
        },
        {
          "output_type": "display_data",
          "data": {
            "text/plain": [
              "<Figure size 432x288 with 1 Axes>"
            ],
            "image/png": "[encoded data removed]"
          },
          "metadata": {
            "needs_background": "light"
          }
        }
      ]
    },
    {
      "cell_type": "code",
      "metadata": {
        "id": "uVennh-Ej-Vp"
      },
      "source": [
        "# training set에 대하여 Z-Score 정규화를 합니다.\n",
        "train_df_mean = train_df.mean()\n",
        "train_df_std = train_df.std()\n",
        "train_df_norm = (train_df - train_df_mean) / train_df_std"
      ],
      "execution_count": 17,
      "outputs": []
    },
    {
      "cell_type": "code",
      "metadata": {
        "id": "XdByRf-qkdDV",
        "colab": {
          "base_uri": "https://localhost:8080/",
          "height": 204
        },
        "outputId": "38b22bbe-4b02-4f00-fcbc-70dcdb0dedca"
      },
      "source": [
        "# 정규화된 데이터를 확인합니다.\n",
        "train_df_norm.head()"
      ],
      "execution_count": 18,
      "outputs": [
        {
          "output_type": "execute_result",
          "data": {
            "text/plain": [
              "   longitude  latitude  housing_median_age  total_rooms  total_bedrooms  \\\n",
              "0   2.619288 -0.671500           -1.079639     1.361655        1.764152   \n",
              "1   2.539494 -0.573248           -0.761850     2.296540        3.230346   \n",
              "2   2.494610 -0.905436           -0.920744    -0.882436       -0.866931   \n",
              "3   2.489623 -0.928830           -1.159087    -0.524171       -0.480216   \n",
              "4   2.489623 -0.961581           -0.682402    -0.545731       -0.506313   \n",
              "\n",
              "   population  households  median_income  median_house_value  \n",
              "0   -0.361173   -0.075996      -1.252506           -1.210522  \n",
              "1   -0.261858   -0.099401      -1.081451           -1.096713  \n",
              "2   -0.955326   -0.999223      -1.170071           -1.048430  \n",
              "3   -0.796769   -0.715753      -0.362590           -1.154480  \n",
              "4   -0.701809   -0.622130      -1.026424           -1.222593  "
            ],
            "text/html": [
              "\n",
              "  <div id=\"df-f0a68766-aac3-47da-98ad-d237f254580f\">\n",
              "    <div class=\"colab-df-container\">\n",
              "      <div>\n",
              "<style scoped>\n",
              "    .dataframe tbody tr th:only-of-type {\n",
              "        vertical-align: middle;\n",
              "    }\n",
              "\n",
              "    .dataframe tbody tr th {\n",
              "        vertical-align: top;\n",
              "    }\n",
              "\n",
              "    .dataframe thead th {\n",
              "        text-align: right;\n",
              "    }\n",
              "</style>\n",
              "<table border=\"1\" class=\"dataframe\">\n",
              "  <thead>\n",
              "    <tr style=\"text-align: right;\">\n",
              "      <th></th>\n",
              "      <th>longitude</th>\n",
              "      <th>latitude</th>\n",
              "      <th>housing_median_age</th>\n",
              "      <th>total_rooms</th>\n",
              "      <th>total_bedrooms</th>\n",
              "      <th>population</th>\n",
              "      <th>households</th>\n",
              "      <th>median_income</th>\n",
              "      <th>median_house_value</th>\n",
              "    </tr>\n",
              "  </thead>\n",
              "  <tbody>\n",
              "    <tr>\n",
              "      <th>0</th>\n",
              "      <td>2.619288</td>\n",
              "      <td>-0.671500</td>\n",
              "      <td>-1.079639</td>\n",
              "      <td>1.361655</td>\n",
              "      <td>1.764152</td>\n",
              "      <td>-0.361173</td>\n",
              "      <td>-0.075996</td>\n",
              "      <td>-1.252506</td>\n",
              "      <td>-1.210522</td>\n",
              "    </tr>\n",
              "    <tr>\n",
              "      <th>1</th>\n",
              "      <td>2.539494</td>\n",
              "      <td>-0.573248</td>\n",
              "      <td>-0.761850</td>\n",
              "      <td>2.296540</td>\n",
              "      <td>3.230346</td>\n",
              "      <td>-0.261858</td>\n",
              "      <td>-0.099401</td>\n",
              "      <td>-1.081451</td>\n",
              "      <td>-1.096713</td>\n",
              "    </tr>\n",
              "    <tr>\n",
              "      <th>2</th>\n",
              "      <td>2.494610</td>\n",
              "      <td>-0.905436</td>\n",
              "      <td>-0.920744</td>\n",
              "      <td>-0.882436</td>\n",
              "      <td>-0.866931</td>\n",
              "      <td>-0.955326</td>\n",
              "      <td>-0.999223</td>\n",
              "      <td>-1.170071</td>\n",
              "      <td>-1.048430</td>\n",
              "    </tr>\n",
              "    <tr>\n",
              "      <th>3</th>\n",
              "      <td>2.489623</td>\n",
              "      <td>-0.928830</td>\n",
              "      <td>-1.159087</td>\n",
              "      <td>-0.524171</td>\n",
              "      <td>-0.480216</td>\n",
              "      <td>-0.796769</td>\n",
              "      <td>-0.715753</td>\n",
              "      <td>-0.362590</td>\n",
              "      <td>-1.154480</td>\n",
              "    </tr>\n",
              "    <tr>\n",
              "      <th>4</th>\n",
              "      <td>2.489623</td>\n",
              "      <td>-0.961581</td>\n",
              "      <td>-0.682402</td>\n",
              "      <td>-0.545731</td>\n",
              "      <td>-0.506313</td>\n",
              "      <td>-0.701809</td>\n",
              "      <td>-0.622130</td>\n",
              "      <td>-1.026424</td>\n",
              "      <td>-1.222593</td>\n",
              "    </tr>\n",
              "  </tbody>\n",
              "</table>\n",
              "</div>\n",
              "      <button class=\"colab-df-convert\" onclick=\"convertToInteractive('df-f0a68766-aac3-47da-98ad-d237f254580f')\"\n",
              "              title=\"Convert this dataframe to an interactive table.\"\n",
              "              style=\"display:none;\">\n",
              "        \n",
              "  <svg xmlns=\"http://www.w3.org/2000/svg\" height=\"24px\"viewBox=\"0 0 24 24\"\n",
              "       width=\"24px\">\n",
              "    <path d=\"M0 0h24v24H0V0z\" fill=\"none\"/>\n",
              "    <path d=\"M18.56 5.44l.94 2.06.94-2.06 2.06-.94-2.06-.94-.94-2.06-.94 2.06-2.06.94zm-11 1L8.5 8.5l.94-2.06 2.06-.94-2.06-.94L8.5 2.5l-.94 2.06-2.06.94zm10 10l.94 2.06.94-2.06 2.06-.94-2.06-.94-.94-2.06-.94 2.06-2.06.94z\"/><path d=\"M17.41 7.96l-1.37-1.37c-.4-.4-.92-.59-1.43-.59-.52 0-1.04.2-1.43.59L10.3 9.45l-7.72 7.72c-.78.78-.78 2.05 0 2.83L4 21.41c.39.39.9.59 1.41.59.51 0 1.02-.2 1.41-.59l7.78-7.78 2.81-2.81c.8-.78.8-2.07 0-2.86zM5.41 20L4 18.59l7.72-7.72 1.47 1.35L5.41 20z\"/>\n",
              "  </svg>\n",
              "      </button>\n",
              "      \n",
              "  <style>\n",
              "    .colab-df-container {\n",
              "      display:flex;\n",
              "      flex-wrap:wrap;\n",
              "      gap: 12px;\n",
              "    }\n",
              "\n",
              "    .colab-df-convert {\n",
              "      background-color: #E8F0FE;\n",
              "      border: none;\n",
              "      border-radius: 50%;\n",
              "      cursor: pointer;\n",
              "      display: none;\n",
              "      fill: #1967D2;\n",
              "      height: 32px;\n",
              "      padding: 0 0 0 0;\n",
              "      width: 32px;\n",
              "    }\n",
              "\n",
              "    .colab-df-convert:hover {\n",
              "      background-color: #E2EBFA;\n",
              "      box-shadow: 0px 1px 2px rgba(60, 64, 67, 0.3), 0px 1px 3px 1px rgba(60, 64, 67, 0.15);\n",
              "      fill: #174EA6;\n",
              "    }\n",
              "\n",
              "    [theme=dark] .colab-df-convert {\n",
              "      background-color: #3B4455;\n",
              "      fill: #D2E3FC;\n",
              "    }\n",
              "\n",
              "    [theme=dark] .colab-df-convert:hover {\n",
              "      background-color: #434B5C;\n",
              "      box-shadow: 0px 1px 3px 1px rgba(0, 0, 0, 0.15);\n",
              "      filter: drop-shadow(0px 1px 2px rgba(0, 0, 0, 0.3));\n",
              "      fill: #FFFFFF;\n",
              "    }\n",
              "  </style>\n",
              "\n",
              "      <script>\n",
              "        const buttonEl =\n",
              "          document.querySelector('#df-f0a68766-aac3-47da-98ad-d237f254580f button.colab-df-convert');\n",
              "        buttonEl.style.display =\n",
              "          google.colab.kernel.accessAllowed ? 'block' : 'none';\n",
              "\n",
              "        async function convertToInteractive(key) {\n",
              "          const element = document.querySelector('#df-f0a68766-aac3-47da-98ad-d237f254580f');\n",
              "          const dataTable =\n",
              "            await google.colab.kernel.invokeFunction('convertToInteractive',\n",
              "                                                     [key], {});\n",
              "          if (!dataTable) return;\n",
              "\n",
              "          const docLinkHtml = 'Like what you see? Visit the ' +\n",
              "            '<a target=\"_blank\" href=https://colab.research.google.com/notebooks/data_table.ipynb>data table notebook</a>'\n",
              "            + ' to learn more about interactive tables.';\n",
              "          element.innerHTML = '';\n",
              "          dataTable['output_type'] = 'display_data';\n",
              "          await google.colab.output.renderOutput(dataTable, element);\n",
              "          const docLink = document.createElement('div');\n",
              "          docLink.innerHTML = docLinkHtml;\n",
              "          element.appendChild(docLink);\n",
              "        }\n",
              "      </script>\n",
              "    </div>\n",
              "  </div>\n",
              "  "
            ]
          },
          "metadata": {},
          "execution_count": 18
        }
      ]
    },
    {
      "cell_type": "code",
      "source": [
        "# Z-score 전후 데이터의 범위를 비교해봅니다.\n",
        "import seaborn as sns\n",
        "import matplotlib.pyplot as plt\n",
        "\n",
        "sns.set(rc={'figure.figsize':(14,5)})\n",
        "\n",
        "fig, ax = plt.subplots(1,2)\n",
        "sns.scatterplot(x=train_df.total_rooms, y=train_df.housing_median_age, ax=ax[0]).set(title='Before Normalization')\n",
        "sns.scatterplot(x=train_df_norm.total_rooms, y=train_df_norm.housing_median_age, ax=ax[1]).set(title='Z-score Normalization')\n",
        "fig.show()"
      ],
      "metadata": {
        "id": "LIQp9XUMG5re",
        "colab": {
          "base_uri": "https://localhost:8080/",
          "height": 355
        },
        "outputId": "ebf6f697-afab-4d67-b256-79bcf174ff18"
      },
      "execution_count": 19,
      "outputs": [
        {
          "output_type": "display_data",
          "data": {
            "text/plain": [
              "<Figure size 1008x360 with 2 Axes>"
            ],
            "image/png": "[encoded data removed]"
          },
          "metadata": {}
        }
      ]
    },
    {
      "cell_type": "code",
      "source": [
        "# 그래프 사이즈 재설정\n",
        "sns.set(rc={'figure.figsize':(11.7,8.27)})"
      ],
      "metadata": {
        "id": "w3vWxddhYuhu"
      },
      "execution_count": 20,
      "outputs": []
    },
    {
      "cell_type": "code",
      "metadata": {
        "id": "iuaTOVg2Rjg5"
      },
      "source": [
        "# test set에 대해서도 동일하게 Z-Score 정규화를 합니다.\n",
        "test_df_mean = test_df.mean()\n",
        "test_df_std = test_df.std()\n",
        "test_df_norm = (test_df - test_df_mean) / test_df_std"
      ],
      "execution_count": 21,
      "outputs": []
    },
    {
      "cell_type": "markdown",
      "metadata": {
        "id": "GMuLVmimRlcq"
      },
      "source": [
        "## 6-3. Create a binary label\n",
        "\n",
        "분류 문제에서 모든 예제의 레이블은 0 또는 1이어야 합니다. 하지만 California Housing Dataset의 label인 `median_house_value`는 0과 1이 아닌 80,100 또는 85,700과 같은 float 값을 포함하고 있는 반면, 정규화된 데이터의 `median_house_values`는 주로 -3과 +3 사이의 float 값을 포함하고 있습니다.\n",
        "\n",
        "Training set과 test set에 `median_house_value_is_high`의 새 column을 만듭니다. `median_house_value`가 특정 임계값(`threshold`)보다 높은 경우 `median_house_value_is_high`를 1로 설정합니다. 그렇지 않으면 `median_house_value_is_high`를 0으로 설정합니다."
      ]
    },
    {
      "cell_type": "code",
      "metadata": {
        "id": "luDDmXk7lUn4"
      },
      "source": [
        "# median_house_value를 임계값에 따라 0과 1로 인코딩합니다.\n",
        "threshold_in_z = 1.0\n",
        "train_df_norm[\"median_house_value_is_high\"] =(train_df_norm[\"median_house_value\"] > threshold_in_z).astype(float)\n",
        "test_df_norm[\"median_house_value_is_high\"] =(test_df_norm[\"median_house_value\"] > threshold_in_z).astype(float)"
      ],
      "execution_count": 22,
      "outputs": []
    },
    {
      "cell_type": "code",
      "metadata": {
        "id": "HfanL-q6lbPT",
        "colab": {
          "base_uri": "https://localhost:8080/"
        },
        "outputId": "07ffbcba-7199-4af4-c4d5-db237c54c7c2"
      },
      "source": [
        "# 변환이 잘 되었는지 확인해봅니다.\n",
        "train_df_norm[\"median_house_value_is_high\"].unique()"
      ],
      "execution_count": 23,
      "outputs": [
        {
          "output_type": "execute_result",
          "data": {
            "text/plain": [
              "array([0., 1.])"
            ]
          },
          "metadata": {},
          "execution_count": 23
        }
      ]
    },
    {
      "cell_type": "code",
      "metadata": {
        "id": "LBRIsRZNmqe5",
        "colab": {
          "base_uri": "https://localhost:8080/"
        },
        "outputId": "23aaaf17-9954-4fc3-e148-806179852a15"
      },
      "source": [
        "# California housing dataset은 label이 불균형한 데이터입니다. 불균형한 정도를 확인해봅니다.\n",
        "train_df_norm[\"median_house_value_is_high\"].value_counts()"
      ],
      "execution_count": 24,
      "outputs": [
        {
          "output_type": "execute_result",
          "data": {
            "text/plain": [
              "0.0    14223\n",
              "1.0     2777\n",
              "Name: median_house_value_is_high, dtype: int64"
            ]
          },
          "metadata": {},
          "execution_count": 24
        }
      ]
    },
    {
      "cell_type": "code",
      "source": [
        "train_df_norm[\"median_house_value_is_high\"].value_counts() / train_df_norm.shape[0]"
      ],
      "metadata": {
        "colab": {
          "base_uri": "https://localhost:8080/"
        },
        "id": "L8T8VgQWt64g",
        "outputId": "c25b024a-0de5-4442-efd3-a3a2fa427612"
      },
      "execution_count": 25,
      "outputs": [
        {
          "output_type": "execute_result",
          "data": {
            "text/plain": [
              "0.0    0.836647\n",
              "1.0    0.163353\n",
              "Name: median_house_value_is_high, dtype: float64"
            ]
          },
          "metadata": {},
          "execution_count": 25
        }
      ]
    },
    {
      "cell_type": "code",
      "metadata": {
        "id": "_5-pUgEUhc4E"
      },
      "source": [
        "# train/test의 X와 y를 분리합니다.\n",
        "X_train = train_df_norm.drop(columns=[\"median_house_value_is_high\", \"median_house_value\"])\n",
        "X_test = test_df_norm.drop(columns=[\"median_house_value_is_high\", \"median_house_value\"])\n",
        "y_train = train_df_norm[\"median_house_value_is_high\"]\n",
        "y_test = test_df_norm[\"median_house_value_is_high\"]"
      ],
      "execution_count": 26,
      "outputs": []
    },
    {
      "cell_type": "markdown",
      "metadata": {
        "id": "dsBR2Udsbbg3"
      },
      "source": [
        "## 6-4. Train a classifier"
      ]
    },
    {
      "cell_type": "code",
      "metadata": {
        "id": "ONbP_eiXnGjG",
        "colab": {
          "base_uri": "https://localhost:8080/"
        },
        "outputId": "c5bcdd54-621b-481b-8a3f-a587569ba341"
      },
      "source": [
        "# MLPClassifier을 생성하고 훈련시킵니다.\n",
        "from sklearn.neural_network import MLPClassifier\n",
        "\n",
        "clf = MLPClassifier(random_state=42, max_iter=1000, learning_rate_init=0.01)\n",
        "clf.fit(X_train, y_train)"
      ],
      "execution_count": 27,
      "outputs": [
        {
          "output_type": "execute_result",
          "data": {
            "text/plain": [
              "MLPClassifier(learning_rate_init=0.01, max_iter=1000, random_state=42)"
            ]
          },
          "metadata": {},
          "execution_count": 27
        }
      ]
    },
    {
      "cell_type": "code",
      "metadata": {
        "id": "cWikPsehSYX6"
      },
      "source": [
        "# 모델 평가를 위해서 예측값과 예측된 확률값을 만듭니다.\n",
        "y_pred = clf.predict(X_test)\n",
        "y_prob = clf.predict_proba(X_test)[:, 1]"
      ],
      "execution_count": 28,
      "outputs": []
    },
    {
      "cell_type": "markdown",
      "metadata": {
        "id": "xm6aOWN3d8BZ"
      },
      "source": [
        "## 6-5. Evaluate the model"
      ]
    },
    {
      "cell_type": "markdown",
      "metadata": {
        "id": "zXy_P33fouk2"
      },
      "source": [
        "### Confusion Matrix\n",
        "\n",
        "- scikit-learn [confusion_matrix](https://scikit-learn.org/stable/modules/generated/sklearn.metrics.confusion_matrix.html)"
      ]
    },
    {
      "cell_type": "code",
      "metadata": {
        "id": "ndTtvKNtoNlw",
        "colab": {
          "base_uri": "https://localhost:8080/"
        },
        "outputId": "3e19c7f0-9643-4ae5-8a9a-4f9ad83f5ab8"
      },
      "source": [
        "# confusion matrix를 출력해봅니다.\n",
        "from sklearn.metrics import confusion_matrix\n",
        "\n",
        "confusion_matrix(y_test, y_pred)"
      ],
      "execution_count": 29,
      "outputs": [
        {
          "output_type": "execute_result",
          "data": {
            "text/plain": [
              "array([[2416,  110],\n",
              "       [ 149,  325]])"
            ]
          },
          "metadata": {},
          "execution_count": 29
        }
      ]
    },
    {
      "cell_type": "markdown",
      "source": [
        "- scikit-learn [ConfusionMatrixDisplay.from_predictions](https://scikit-learn.org/stable/modules/generated/sklearn.metrics.ConfusionMatrixDisplay.html#sklearn.metrics.ConfusionMatrixDisplay.from_predictions)"
      ],
      "metadata": {
        "id": "kwzvW_9Y3kYm"
      }
    },
    {
      "cell_type": "code",
      "source": [
        "# confusion matrix를 시각화해봅니다.\n",
        "from sklearn.metrics import ConfusionMatrixDisplay\n",
        "\n",
        "ConfusionMatrixDisplay.from_predictions(y_test, y_pred)"
      ],
      "metadata": {
        "id": "ajgl9Na_3MuX",
        "colab": {
          "base_uri": "https://localhost:8080/",
          "height": 534
        },
        "outputId": "18df893b-cd16-4c58-9ff6-7c2d2e2b7116"
      },
      "execution_count": 30,
      "outputs": [
        {
          "output_type": "execute_result",
          "data": {
            "text/plain": [
              "<sklearn.metrics._plot.confusion_matrix.ConfusionMatrixDisplay at 0x7f5189b91f90>"
            ]
          },
          "metadata": {},
          "execution_count": 30
        },
        {
          "output_type": "display_data",
          "data": {
            "text/plain": [
              "<Figure size 842.4x595.44 with 2 Axes>"
            ],
            "image/png": "[encoded data removed]"
          },
          "metadata": {}
        }
      ]
    },
    {
      "cell_type": "markdown",
      "source": [
        "- scikit-learn [ConfusionMatrixDisplay.from_estimator](https://scikit-learn.org/stable/modules/generated/sklearn.metrics.ConfusionMatrixDisplay.html#sklearn.metrics.ConfusionMatrixDisplay.from_estimator)"
      ],
      "metadata": {
        "id": "KjAbrp643wMy"
      }
    },
    {
      "cell_type": "code",
      "metadata": {
        "id": "1Nhd1oRGobsk",
        "colab": {
          "base_uri": "https://localhost:8080/",
          "height": 534
        },
        "outputId": "b9dfa472-bffb-407c-a03a-de1fd4693c0b"
      },
      "source": [
        "# confusion matrix를 시각화해봅니다.\n",
        "ConfusionMatrixDisplay.from_estimator(clf, X_test, y_test)"
      ],
      "execution_count": 31,
      "outputs": [
        {
          "output_type": "execute_result",
          "data": {
            "text/plain": [
              "<sklearn.metrics._plot.confusion_matrix.ConfusionMatrixDisplay at 0x7f5189a4b250>"
            ]
          },
          "metadata": {},
          "execution_count": 31
        },
        {
          "output_type": "display_data",
          "data": {
            "text/plain": [
              "<Figure size 842.4x595.44 with 2 Axes>"
            ],
            "image/png": "[encoded data removed]"
          },
          "metadata": {}
        }
      ]
    },
    {
      "cell_type": "markdown",
      "metadata": {
        "id": "uAXRB02rs_lI"
      },
      "source": [
        "### Precision-Recall"
      ]
    },
    {
      "cell_type": "markdown",
      "metadata": {
        "id": "uFdZV0xjrK9L"
      },
      "source": [
        "모델의 분류 작업을 결정하는 임계값을 바꾸는 것은 해당 분류기의 precision과 recall의 상충 관계를 조정하는 일 입니다. \n",
        "- 예를 들어 양성 샘플의 실수(FN)을 10%보다 작게 하여 90% 이상의 recall을 원할 수 있습니다. 이런 결정은 데이터와 애플리케이션에 따라 다르며 목표에 따라 달리 결정됩니다. \n",
        "- 어떤 목표가 선택되면 (즉, 어떤 클래스에 대한 특정 recall 또는 precision의 값) 적절한 임계값을 지정할 수 있습니다. 다시 말해 90% recall과 같은 특정 목적을 충족하는 임계값을 설정하는 것은 언제든 가능합니다. \n",
        "\n",
        "어려운 부분은 이 임계값을 유지하면서 적절한 precision을 내는 모델을 만드는 일 입니다. \n",
        "- 만약 모든 것을 양성이라고 분류하면 recall이 100이 되지만 이러한 모델은 쓸모가 없을 것 입니다.\n",
        "\n",
        "<img src=https://developers.google.com/static/machine-learning/crash-course/images/PrecisionVsRecallRaiseThreshold.svg width=600px>\n",
        "\n",
        "새로운 모델을 만들 때에는 임계값이 명확하지 않은 경우가 많습니다. 이런 경우에는 문제를 더 잘 이해하기 위해 모든 임계값을 조사해보거나, 한번에 precision과 recall의 모든 장단점을 살펴보는 것이 좋습니다. 이를 위해 precision-recall curve를 사용합니다."
      ]
    },
    {
      "cell_type": "markdown",
      "source": [
        "- scikit-learn [PrecisionRecallDisplay](https://scikit-learn.org/stable/modules/generated/sklearn.metrics.PrecisionRecallDisplay.html)"
      ],
      "metadata": {
        "id": "2kJVgEza4a8V"
      }
    },
    {
      "cell_type": "code",
      "metadata": {
        "id": "ztazmyZdnWqD",
        "colab": {
          "base_uri": "https://localhost:8080/",
          "height": 534
        },
        "outputId": "09389ab8-4b79-4563-d573-14b8b276ab4c"
      },
      "source": [
        "from sklearn.metrics import PrecisionRecallDisplay\n",
        "\n",
        "PrecisionRecallDisplay.from_estimator(clf, X_test, y_test)"
      ],
      "execution_count": 32,
      "outputs": [
        {
          "output_type": "execute_result",
          "data": {
            "text/plain": [
              "<sklearn.metrics._plot.precision_recall_curve.PrecisionRecallDisplay at 0x7f5185284b10>"
            ]
          },
          "metadata": {},
          "execution_count": 32
        },
        {
          "output_type": "display_data",
          "data": {
            "text/plain": [
              "<Figure size 842.4x595.44 with 1 Axes>"
            ],
            "image/png": "[encoded data removed]"
          },
          "metadata": {}
        }
      ]
    },
    {
      "cell_type": "markdown",
      "metadata": {
        "id": "OeDn12bgrvuF"
      },
      "source": [
        "- 곡선의 각 포인트는 가능한 임계값에 대하여 precision과 recall입니다. \n",
        "- 곡선이 오른쪽 위로 갈 수록 더 좋은 분류기입니다. \n",
        "    - 오른쪽 위 지점은 한 임계값에서 precision과 recall이 모두 높은 곳 입니다. 곡선은 임계값이 매우 높아 전부 양성 클래스가 되는 왼쪽 위에서 시작합니다. 임계값이 작아지면서 곡선은 recall이 높아지는 쪽으로 이동하게 되지만 precision은 낮아집니다. \n",
        "- precision이 높아져도 recall이 높게 유지될수록 더 좋은 모델입니다."
      ]
    },
    {
      "cell_type": "markdown",
      "metadata": {
        "id": "TFUWpL0SsN2c"
      },
      "source": [
        "### ROC and AUC"
      ]
    },
    {
      "cell_type": "markdown",
      "metadata": {
        "id": "UIikernjS9LR"
      },
      "source": [
        "ROC Curve는 여러 임계값에서 분류기의 특성을 분석하는데 널리 사용하는 도구입니다. Precision-Recall curve와 비슷하게 ROC curve는 분류기의 모든 임계값을 고려하지만, 정밀도와 재현률 대신 True Positive Rate(TPR)에 대한 False Positive Rate(FPR)을 나타냅니다. True Positive Rate은 Recall의 다른 이름이여, False Positive Rate은 전체 음성 샘플 중에서 거짓 양성으로 잘못 분류한 비율입니다. ROC curve는 roc_curve 함수를 사용하여 만들 수 있습니다. ROC curve는 왼쪽 위에 가까울 수록 이상적입니다. False Positive Rate이 낮게 유지되면서 recall이 높은 분류기가 좋은 것 입니다.\n"
      ]
    },
    {
      "cell_type": "code",
      "metadata": {
        "id": "_xId3XzyrB0m"
      },
      "source": [
        "import matplotlib.pyplot as plt\n",
        "from sklearn.metrics import roc_curve\n",
        "\n",
        "def plot_roc(name, labels, predictions, **kwargs):\n",
        "  fp, tp, _ = roc_curve(labels, predictions)\n",
        "  plt.plot(100*fp, 100*tp, label=name, linewidth=2, **kwargs)\n",
        "  plt.xlabel('False positives [%]')\n",
        "  plt.ylabel('True positives [%]')\n",
        "  plt.xlim([-5,100])\n",
        "  plt.ylim([0,105])\n",
        "  plt.grid(True)\n",
        "  ax = plt.gca()\n",
        "  ax.set_aspect('equal')"
      ],
      "execution_count": 33,
      "outputs": []
    },
    {
      "cell_type": "code",
      "metadata": {
        "id": "a4RQgX3pvoqi",
        "colab": {
          "base_uri": "https://localhost:8080/",
          "height": 517
        },
        "outputId": "9f12fe20-00c1-44f1-be40-323a4284d89d"
      },
      "source": [
        "plot_roc('Baseline Classifier', y_test, y_prob)"
      ],
      "execution_count": 34,
      "outputs": [
        {
          "output_type": "display_data",
          "data": {
            "text/plain": [
              "<Figure size 842.4x595.44 with 1 Axes>"
            ],
            "image/png": "[encoded data removed]"
          },
          "metadata": {}
        }
      ]
    },
    {
      "cell_type": "markdown",
      "metadata": {
        "id": "2c5jQUhetDJb"
      },
      "source": [
        "곡선 아래의 면적값 하나로 ROC curve를 요약할 수 있습니다. 이 면적을 보통 AUC(Area Under the Curve)라고 합니다. 이 ROC curve 아래 면적은 `roc_auc_score` 함수로 계산합니다."
      ]
    },
    {
      "cell_type": "code",
      "metadata": {
        "id": "DQlXB9GEvzIu",
        "colab": {
          "base_uri": "https://localhost:8080/"
        },
        "outputId": "9f49fe82-ce27-4e04-f2ed-4bbe4ccdf193"
      },
      "source": [
        "# roc_auc_score 출력하기\n",
        "from sklearn.metrics import roc_auc_score\n",
        "\n",
        "roc_auc_score(y_test, y_prob)"
      ],
      "execution_count": 35,
      "outputs": [
        {
          "output_type": "execute_result",
          "data": {
            "text/plain": [
              "0.9421551727017916"
            ]
          },
          "metadata": {},
          "execution_count": 35
        }
      ]
    },
    {
      "cell_type": "markdown",
      "metadata": {
        "id": "R5tjreBhtofv"
      },
      "source": [
        "scikit-learn의 `classification_report`는 accuracy, precision, recall, f1 score의 점수 모두를 한번에 계산해서 깔끔하게 출력해줍니다."
      ]
    },
    {
      "cell_type": "code",
      "metadata": {
        "id": "DkwONfNetscK",
        "colab": {
          "base_uri": "https://localhost:8080/"
        },
        "outputId": "32c1db50-1556-4561-a38b-6c166d8e954b"
      },
      "source": [
        "# classification report 출력하기\n",
        "from sklearn.metrics import classification_report\n",
        "\n",
        "print(classification_report(y_test, y_pred))"
      ],
      "execution_count": 36,
      "outputs": [
        {
          "output_type": "stream",
          "name": "stdout",
          "text": [
            "              precision    recall  f1-score   support\n",
            "\n",
            "         0.0       0.94      0.96      0.95      2526\n",
            "         1.0       0.75      0.69      0.72       474\n",
            "\n",
            "    accuracy                           0.91      3000\n",
            "   macro avg       0.84      0.82      0.83      3000\n",
            "weighted avg       0.91      0.91      0.91      3000\n",
            "\n"
          ]
        }
      ]
    },
    {
      "cell_type": "markdown",
      "source": [
        "# **7. Cross Validation**\n",
        "\n",
        "Machine Learning model training process:\n",
        "\n",
        "성능이 좋은 모델을 만들기 위해 데이터에 반복적으로 모델을 학습시키는 것은 잘못된 방법입니다. 이렇게 훈련된 모델은 train data에만 매우 잘 작동하는 모델이 되며 이전에 학습하지 않은 데이터를 예측해야 할 경우에는 성능이 떨어지게 됩니다. Overfitting(과적합)을 방지하기 위해서 test set을 따로 분류하여 모델의 성능을 확인하게 됩니다.\n",
        "\n",
        "\n",
        "<img src=https://scikit-learn.org/stable/_images/grid_search_workflow.png width=400px>\n",
        "\n"
      ],
      "metadata": {
        "id": "arLNaO15AQYS"
      }
    },
    {
      "cell_type": "markdown",
      "source": [
        "Cross Validation:\n",
        "\n",
        "모델 훈련 과정 중 test data을 활용하여 최적의 모델 파라미터를 찾는 방법은 적합하지 않습니다. 그 이유는 test data에 가장 좋은 성능을 낼 때까지 모델 파라미터를 조정하게 되기 때문에, test data에 과적합될 가능성이 있기 때문입니다. 따라서 test data에 존재하는 분포가 모델에 노출되어 모델의 일반화 성능을 떨어뜨릴 수 있기 때문입니다. 이와 같은 문제를 해결하기 위해서 파라미터를 조정하기 위한 validation data을 따로 구성합니다. 최적의 모델 파라미터를 validation data을 통해 찾고, 최적의 파라미터로 훈련된 모델의 최종 성능은 test data로 평가하게 됩니다. 비율은 train:test=8:2, 분리된 train data에서 다시 train:val=8:2로 설정되거나 train:val:test=6:2:2 또한 자주 사용됩니다. 데이터 크기에 따라 그 비율 또한 조정되어야 합니다.\n",
        "\n",
        "데이터 크기가 작아 validation data을 따로 구성할 수 없거나, 특정한 분포의 데이터가 train 혹은 test data에 포함되어 학습에 영향을 주는 것을 방지하기 위해 cross validation을 사용합니다. train data은 k개의 fold으로 나뉘게 되며, k번 반복되어 훈련되지만 각 훈련마다 valiation set을 k 번째 fold으로 사용합니다. k=5가 가장 흔하며, 5-fold CV라고 부릅니다. 성능은 validation data로 사용된 fold들의 평균 정확도로 계산됩니다. \n",
        "\n",
        "<img src=https://scikit-learn.org/stable/_images/grid_search_cross_validation.png width=500px>"
      ],
      "metadata": {
        "id": "-UljRvlhOSKb"
      }
    },
    {
      "cell_type": "markdown",
      "source": [
        "1. Scikit-learn Cross Validation Score [다큐멘테이션](https://scikit-learn.org/stable/modules/generated/sklearn.model_selection.cross_val_score.html)"
      ],
      "metadata": {
        "id": "B3qsKU6hAYjL"
      }
    },
    {
      "cell_type": "code",
      "source": [
        "from sklearn.model_selection import cross_val_score\n",
        "\n",
        "clf = MLPClassifier(random_state=42, max_iter=1000, learning_rate_init=0.01)\n",
        "scores = cross_val_score(clf, X_train, y_train, cv=5)\n",
        "print(scores)"
      ],
      "metadata": {
        "id": "YXPetUgHAcOI",
        "colab": {
          "base_uri": "https://localhost:8080/"
        },
        "outputId": "c8999d10-93cf-4c18-9d98-31e39fe5a5d1"
      },
      "execution_count": 37,
      "outputs": [
        {
          "output_type": "stream",
          "name": "stdout",
          "text": [
            "[0.85852941 0.91382353 0.87264706 0.87852941 0.51      ]\n"
          ]
        }
      ]
    },
    {
      "cell_type": "code",
      "source": [
        "scores.mean()"
      ],
      "metadata": {
        "colab": {
          "base_uri": "https://localhost:8080/"
        },
        "id": "dysS-A7-zMOP",
        "outputId": "c2cbea93-cef9-4676-9704-c96a11ebc246"
      },
      "execution_count": 38,
      "outputs": [
        {
          "output_type": "execute_result",
          "data": {
            "text/plain": [
              "0.8067058823529412"
            ]
          },
          "metadata": {},
          "execution_count": 38
        }
      ]
    },
    {
      "cell_type": "markdown",
      "source": [
        "2. Scikit-learn K-Folds cross-validator [다큐멘테이션](https://scikit-learn.org/stable/modules/generated/sklearn.model_selection.KFold.html)"
      ],
      "metadata": {
        "id": "Dn3SAOYuAdO6"
      }
    },
    {
      "cell_type": "code",
      "source": [
        "# 데이터셋을 train과 validation으로 나누어주는 KFold를 알아봅니다.\n",
        "from sklearn.model_selection import KFold\n",
        "\n",
        "kf = KFold(n_splits=5)\n",
        "for train_index, val_index in kf.split(X_train):\n",
        "  X_train_cv, X_val_cv = X_train.iloc[train_index], X_train.iloc[val_index]\n",
        "  y_train_cv, y_val_cv = y_train.iloc[train_index], y_train.iloc[val_index]\n",
        "  print(y_train_cv.value_counts())"
      ],
      "metadata": {
        "id": "GjM4atpcAfR5",
        "colab": {
          "base_uri": "https://localhost:8080/"
        },
        "outputId": "8ea89406-b40c-4662-8b4c-ce992bfc480d"
      },
      "execution_count": 39,
      "outputs": [
        {
          "output_type": "stream",
          "name": "stdout",
          "text": [
            "0.0    11171\n",
            "1.0     2429\n",
            "Name: median_house_value_is_high, dtype: int64\n",
            "0.0    11194\n",
            "1.0     2406\n",
            "Name: median_house_value_is_high, dtype: int64\n",
            "0.0    11742\n",
            "1.0     1858\n",
            "Name: median_house_value_is_high, dtype: int64\n",
            "0.0    11041\n",
            "1.0     2559\n",
            "Name: median_house_value_is_high, dtype: int64\n",
            "0.0    11744\n",
            "1.0     1856\n",
            "Name: median_house_value_is_high, dtype: int64\n"
          ]
        }
      ]
    },
    {
      "cell_type": "markdown",
      "source": [
        "3. Scikit-learn Stratified K-Folds cross-validator [다큐멘테이션](https://scikit-learn.org/stable/modules/generated/sklearn.model_selection.StratifiedKFold.html)"
      ],
      "metadata": {
        "id": "JsvJDFYsAhFV"
      }
    },
    {
      "cell_type": "code",
      "source": [
        "from sklearn.model_selection import StratifiedKFold\n",
        "\n",
        "skf = StratifiedKFold(n_splits=5)\n",
        "for train_index, val_index in skf.split(X_train, y_train):\n",
        "  X_train_cv, X_val_cv = X_train.iloc[train_index], X_train.iloc[val_index]\n",
        "  y_train_cv, y_val_cv = y_train.iloc[train_index], y_train.iloc[val_index]\n",
        "  print(y_train_cv.value_counts())"
      ],
      "metadata": {
        "id": "GO9w6Y-dAgqx",
        "colab": {
          "base_uri": "https://localhost:8080/"
        },
        "outputId": "d42f9aca-ed96-494e-d142-959c137c5fe1"
      },
      "execution_count": 40,
      "outputs": [
        {
          "output_type": "stream",
          "name": "stdout",
          "text": [
            "0.0    11378\n",
            "1.0     2222\n",
            "Name: median_house_value_is_high, dtype: int64\n",
            "0.0    11378\n",
            "1.0     2222\n",
            "Name: median_house_value_is_high, dtype: int64\n",
            "0.0    11378\n",
            "1.0     2222\n",
            "Name: median_house_value_is_high, dtype: int64\n",
            "0.0    11379\n",
            "1.0     2221\n",
            "Name: median_house_value_is_high, dtype: int64\n",
            "0.0    11379\n",
            "1.0     2221\n",
            "Name: median_house_value_is_high, dtype: int64\n"
          ]
        }
      ]
    },
    {
      "cell_type": "markdown",
      "metadata": {
        "id": "U1aDrqfATN7t"
      },
      "source": [
        "#  **과제**\n",
        "\n",
        "### Credit Card Fraud dataset\n",
        "\n",
        "Credit Card Fraud dataset는 2013년 9월 유럽 사용자의 이틀 동안의 신용카드 결제내역입니다.\n",
        "284,807개의 지불내역 중 492개의 이상 거래가 있습니다. 데이터의 불균형이 매우 심하며, positive class(이상 거래)은 모든 지불내역의 0.172% 입니다.\n",
        "\n",
        "데이터에는 PCA(Principal component analysis) 변환의 결과인 숫자 입력 변수만 포함되며, 기밀성 문제로 인해 데이터의 원래 기능과 더 많은 배경 정보가 제공되지 않습니다. 특징 `V1`, `V2` … `V28`은 PCA를 통해 얻은 주요 feature이며, PCA를 통해 변환되지 않은 feature들은 `time`과 `amount`입니다. `time` feature에는 각 지불내역과 데이터 집합의 첫 번째 지불내역 사이에 경과된 초입니다. `amount` 기능은 지불내역 금액입니다. `Class` feature은 label이며 이상 거래 발생 시 `1`이며 그렇지 않으면 `0`입니다."
      ]
    },
    {
      "cell_type": "code",
      "metadata": {
        "id": "rFSlFpwUTHZZ"
      },
      "source": [
        "import numpy as np\n",
        "\n",
        "raw_df = pd.read_csv('https://storage.googleapis.com/download.tensorflow.org/data/creditcard.csv')"
      ],
      "execution_count": 41,
      "outputs": []
    },
    {
      "cell_type": "code",
      "metadata": {
        "id": "hmMOJSbK8B8P",
        "colab": {
          "base_uri": "https://localhost:8080/"
        },
        "outputId": "88516429-6d70-4d52-dffb-535873d3551a"
      },
      "source": [
        "# 데이터의 column을 프린트해봅니다.\n",
        "raw_df.columns"
      ],
      "execution_count": 42,
      "outputs": [
        {
          "output_type": "execute_result",
          "data": {
            "text/plain": [
              "Index(['Time', 'V1', 'V2', 'V3', 'V4', 'V5', 'V6', 'V7', 'V8', 'V9', 'V10',\n",
              "       'V11', 'V12', 'V13', 'V14', 'V15', 'V16', 'V17', 'V18', 'V19', 'V20',\n",
              "       'V21', 'V22', 'V23', 'V24', 'V25', 'V26', 'V27', 'V28', 'Amount',\n",
              "       'Class'],\n",
              "      dtype='object')"
            ]
          },
          "metadata": {},
          "execution_count": 42
        }
      ]
    },
    {
      "cell_type": "code",
      "metadata": {
        "id": "CCXbEea9759z",
        "colab": {
          "base_uri": "https://localhost:8080/",
          "height": 361
        },
        "outputId": "892eff6d-b1c2-427c-e89b-99973375937a"
      },
      "source": [
        "raw_df[['Time', 'V1', 'V2', 'V3', 'V4', 'V5', 'V26', 'V27', 'V28', 'Amount', 'Class']].describe()"
      ],
      "execution_count": 43,
      "outputs": [
        {
          "output_type": "execute_result",
          "data": {
            "text/plain": [
              "                Time            V1            V2            V3            V4  \\\n",
              "count  284807.000000  2.848070e+05  2.848070e+05  2.848070e+05  2.848070e+05   \n",
              "mean    94813.859575  1.168375e-15  3.416908e-16 -1.379537e-15  2.074095e-15   \n",
              "std     47488.145955  1.958696e+00  1.651309e+00  1.516255e+00  1.415869e+00   \n",
              "min         0.000000 -5.640751e+01 -7.271573e+01 -4.832559e+01 -5.683171e+00   \n",
              "25%     54201.500000 -9.203734e-01 -5.985499e-01 -8.903648e-01 -8.486401e-01   \n",
              "50%     84692.000000  1.810880e-02  6.548556e-02  1.798463e-01 -1.984653e-02   \n",
              "75%    139320.500000  1.315642e+00  8.037239e-01  1.027196e+00  7.433413e-01   \n",
              "max    172792.000000  2.454930e+00  2.205773e+01  9.382558e+00  1.687534e+01   \n",
              "\n",
              "                 V5           V26           V27           V28         Amount  \\\n",
              "count  2.848070e+05  2.848070e+05  2.848070e+05  2.848070e+05  284807.000000   \n",
              "mean   9.604066e-16  1.683437e-15 -3.660091e-16 -1.227390e-16      88.349619   \n",
              "std    1.380247e+00  4.822270e-01  4.036325e-01  3.300833e-01     250.120109   \n",
              "min   -1.137433e+02 -2.604551e+00 -2.256568e+01 -1.543008e+01       0.000000   \n",
              "25%   -6.915971e-01 -3.269839e-01 -7.083953e-02 -5.295979e-02       5.600000   \n",
              "50%   -5.433583e-02 -5.213911e-02  1.342146e-03  1.124383e-02      22.000000   \n",
              "75%    6.119264e-01  2.409522e-01  9.104512e-02  7.827995e-02      77.165000   \n",
              "max    3.480167e+01  3.517346e+00  3.161220e+01  3.384781e+01   25691.160000   \n",
              "\n",
              "               Class  \n",
              "count  284807.000000  \n",
              "mean        0.001727  \n",
              "std         0.041527  \n",
              "min         0.000000  \n",
              "25%         0.000000  \n",
              "50%         0.000000  \n",
              "75%         0.000000  \n",
              "max         1.000000  "
            ],
            "text/html": [
              "\n",
              "  <div id=\"df-81722f77-74bf-427d-978f-38304d74dc00\">\n",
              "    <div class=\"colab-df-container\">\n",
              "      <div>\n",
              "<style scoped>\n",
              "    .dataframe tbody tr th:only-of-type {\n",
              "        vertical-align: middle;\n",
              "    }\n",
              "\n",
              "    .dataframe tbody tr th {\n",
              "        vertical-align: top;\n",
              "    }\n",
              "\n",
              "    .dataframe thead th {\n",
              "        text-align: right;\n",
              "    }\n",
              "</style>\n",
              "<table border=\"1\" class=\"dataframe\">\n",
              "  <thead>\n",
              "    <tr style=\"text-align: right;\">\n",
              "      <th></th>\n",
              "      <th>Time</th>\n",
              "      <th>V1</th>\n",
              "      <th>V2</th>\n",
              "      <th>V3</th>\n",
              "      <th>V4</th>\n",
              "      <th>V5</th>\n",
              "      <th>V26</th>\n",
              "      <th>V27</th>\n",
              "      <th>V28</th>\n",
              "      <th>Amount</th>\n",
              "      <th>Class</th>\n",
              "    </tr>\n",
              "  </thead>\n",
              "  <tbody>\n",
              "    <tr>\n",
              "      <th>count</th>\n",
              "      <td>284807.000000</td>\n",
              "      <td>2.848070e+05</td>\n",
              "      <td>2.848070e+05</td>\n",
              "      <td>2.848070e+05</td>\n",
              "      <td>2.848070e+05</td>\n",
              "      <td>2.848070e+05</td>\n",
              "      <td>2.848070e+05</td>\n",
              "      <td>2.848070e+05</td>\n",
              "      <td>2.848070e+05</td>\n",
              "      <td>284807.000000</td>\n",
              "      <td>284807.000000</td>\n",
              "    </tr>\n",
              "    <tr>\n",
              "      <th>mean</th>\n",
              "      <td>94813.859575</td>\n",
              "      <td>1.168375e-15</td>\n",
              "      <td>3.416908e-16</td>\n",
              "      <td>-1.379537e-15</td>\n",
              "      <td>2.074095e-15</td>\n",
              "      <td>9.604066e-16</td>\n",
              "      <td>1.683437e-15</td>\n",
              "      <td>-3.660091e-16</td>\n",
              "      <td>-1.227390e-16</td>\n",
              "      <td>88.349619</td>\n",
              "      <td>0.001727</td>\n",
              "    </tr>\n",
              "    <tr>\n",
              "      <th>std</th>\n",
              "      <td>47488.145955</td>\n",
              "      <td>1.958696e+00</td>\n",
              "      <td>1.651309e+00</td>\n",
              "      <td>1.516255e+00</td>\n",
              "      <td>1.415869e+00</td>\n",
              "      <td>1.380247e+00</td>\n",
              "      <td>4.822270e-01</td>\n",
              "      <td>4.036325e-01</td>\n",
              "      <td>3.300833e-01</td>\n",
              "      <td>250.120109</td>\n",
              "      <td>0.041527</td>\n",
              "    </tr>\n",
              "    <tr>\n",
              "      <th>min</th>\n",
              "      <td>0.000000</td>\n",
              "      <td>-5.640751e+01</td>\n",
              "      <td>-7.271573e+01</td>\n",
              "      <td>-4.832559e+01</td>\n",
              "      <td>-5.683171e+00</td>\n",
              "      <td>-1.137433e+02</td>\n",
              "      <td>-2.604551e+00</td>\n",
              "      <td>-2.256568e+01</td>\n",
              "      <td>-1.543008e+01</td>\n",
              "      <td>0.000000</td>\n",
              "      <td>0.000000</td>\n",
              "    </tr>\n",
              "    <tr>\n",
              "      <th>25%</th>\n",
              "      <td>54201.500000</td>\n",
              "      <td>-9.203734e-01</td>\n",
              "      <td>-5.985499e-01</td>\n",
              "      <td>-8.903648e-01</td>\n",
              "      <td>-8.486401e-01</td>\n",
              "      <td>-6.915971e-01</td>\n",
              "      <td>-3.269839e-01</td>\n",
              "      <td>-7.083953e-02</td>\n",
              "      <td>-5.295979e-02</td>\n",
              "      <td>5.600000</td>\n",
              "      <td>0.000000</td>\n",
              "    </tr>\n",
              "    <tr>\n",
              "      <th>50%</th>\n",
              "      <td>84692.000000</td>\n",
              "      <td>1.810880e-02</td>\n",
              "      <td>6.548556e-02</td>\n",
              "      <td>1.798463e-01</td>\n",
              "      <td>-1.984653e-02</td>\n",
              "      <td>-5.433583e-02</td>\n",
              "      <td>-5.213911e-02</td>\n",
              "      <td>1.342146e-03</td>\n",
              "      <td>1.124383e-02</td>\n",
              "      <td>22.000000</td>\n",
              "      <td>0.000000</td>\n",
              "    </tr>\n",
              "    <tr>\n",
              "      <th>75%</th>\n",
              "      <td>139320.500000</td>\n",
              "      <td>1.315642e+00</td>\n",
              "      <td>8.037239e-01</td>\n",
              "      <td>1.027196e+00</td>\n",
              "      <td>7.433413e-01</td>\n",
              "      <td>6.119264e-01</td>\n",
              "      <td>2.409522e-01</td>\n",
              "      <td>9.104512e-02</td>\n",
              "      <td>7.827995e-02</td>\n",
              "      <td>77.165000</td>\n",
              "      <td>0.000000</td>\n",
              "    </tr>\n",
              "    <tr>\n",
              "      <th>max</th>\n",
              "      <td>172792.000000</td>\n",
              "      <td>2.454930e+00</td>\n",
              "      <td>2.205773e+01</td>\n",
              "      <td>9.382558e+00</td>\n",
              "      <td>1.687534e+01</td>\n",
              "      <td>3.480167e+01</td>\n",
              "      <td>3.517346e+00</td>\n",
              "      <td>3.161220e+01</td>\n",
              "      <td>3.384781e+01</td>\n",
              "      <td>25691.160000</td>\n",
              "      <td>1.000000</td>\n",
              "    </tr>\n",
              "  </tbody>\n",
              "</table>\n",
              "</div>\n",
              "      <button class=\"colab-df-convert\" onclick=\"convertToInteractive('df-81722f77-74bf-427d-978f-38304d74dc00')\"\n",
              "              title=\"Convert this dataframe to an interactive table.\"\n",
              "              style=\"display:none;\">\n",
              "        \n",
              "  <svg xmlns=\"http://www.w3.org/2000/svg\" height=\"24px\"viewBox=\"0 0 24 24\"\n",
              "       width=\"24px\">\n",
              "    <path d=\"M0 0h24v24H0V0z\" fill=\"none\"/>\n",
              "    <path d=\"M18.56 5.44l.94 2.06.94-2.06 2.06-.94-2.06-.94-.94-2.06-.94 2.06-2.06.94zm-11 1L8.5 8.5l.94-2.06 2.06-.94-2.06-.94L8.5 2.5l-.94 2.06-2.06.94zm10 10l.94 2.06.94-2.06 2.06-.94-2.06-.94-.94-2.06-.94 2.06-2.06.94z\"/><path d=\"M17.41 7.96l-1.37-1.37c-.4-.4-.92-.59-1.43-.59-.52 0-1.04.2-1.43.59L10.3 9.45l-7.72 7.72c-.78.78-.78 2.05 0 2.83L4 21.41c.39.39.9.59 1.41.59.51 0 1.02-.2 1.41-.59l7.78-7.78 2.81-2.81c.8-.78.8-2.07 0-2.86zM5.41 20L4 18.59l7.72-7.72 1.47 1.35L5.41 20z\"/>\n",
              "  </svg>\n",
              "      </button>\n",
              "      \n",
              "  <style>\n",
              "    .colab-df-container {\n",
              "      display:flex;\n",
              "      flex-wrap:wrap;\n",
              "      gap: 12px;\n",
              "    }\n",
              "\n",
              "    .colab-df-convert {\n",
              "      background-color: #E8F0FE;\n",
              "      border: none;\n",
              "      border-radius: 50%;\n",
              "      cursor: pointer;\n",
              "      display: none;\n",
              "      fill: #1967D2;\n",
              "      height: 32px;\n",
              "      padding: 0 0 0 0;\n",
              "      width: 32px;\n",
              "    }\n",
              "\n",
              "    .colab-df-convert:hover {\n",
              "      background-color: #E2EBFA;\n",
              "      box-shadow: 0px 1px 2px rgba(60, 64, 67, 0.3), 0px 1px 3px 1px rgba(60, 64, 67, 0.15);\n",
              "      fill: #174EA6;\n",
              "    }\n",
              "\n",
              "    [theme=dark] .colab-df-convert {\n",
              "      background-color: #3B4455;\n",
              "      fill: #D2E3FC;\n",
              "    }\n",
              "\n",
              "    [theme=dark] .colab-df-convert:hover {\n",
              "      background-color: #434B5C;\n",
              "      box-shadow: 0px 1px 3px 1px rgba(0, 0, 0, 0.15);\n",
              "      filter: drop-shadow(0px 1px 2px rgba(0, 0, 0, 0.3));\n",
              "      fill: #FFFFFF;\n",
              "    }\n",
              "  </style>\n",
              "\n",
              "      <script>\n",
              "        const buttonEl =\n",
              "          document.querySelector('#df-81722f77-74bf-427d-978f-38304d74dc00 button.colab-df-convert');\n",
              "        buttonEl.style.display =\n",
              "          google.colab.kernel.accessAllowed ? 'block' : 'none';\n",
              "\n",
              "        async function convertToInteractive(key) {\n",
              "          const element = document.querySelector('#df-81722f77-74bf-427d-978f-38304d74dc00');\n",
              "          const dataTable =\n",
              "            await google.colab.kernel.invokeFunction('convertToInteractive',\n",
              "                                                     [key], {});\n",
              "          if (!dataTable) return;\n",
              "\n",
              "          const docLinkHtml = 'Like what you see? Visit the ' +\n",
              "            '<a target=\"_blank\" href=https://colab.research.google.com/notebooks/data_table.ipynb>data table notebook</a>'\n",
              "            + ' to learn more about interactive tables.';\n",
              "          element.innerHTML = '';\n",
              "          dataTable['output_type'] = 'display_data';\n",
              "          await google.colab.output.renderOutput(dataTable, element);\n",
              "          const docLink = document.createElement('div');\n",
              "          docLink.innerHTML = docLinkHtml;\n",
              "          element.appendChild(docLink);\n",
              "        }\n",
              "      </script>\n",
              "    </div>\n",
              "  </div>\n",
              "  "
            ]
          },
          "metadata": {},
          "execution_count": 43
        }
      ]
    },
    {
      "cell_type": "code",
      "metadata": {
        "id": "jcCppnvw8FAO",
        "colab": {
          "base_uri": "https://localhost:8080/"
        },
        "outputId": "7c5d39f6-de0e-41d1-8aca-532670db724c"
      },
      "source": [
        "# Class의 분포를 확인해봅니다.\n",
        "raw_df.Class.value_counts()"
      ],
      "execution_count": 44,
      "outputs": [
        {
          "output_type": "execute_result",
          "data": {
            "text/plain": [
              "0    284315\n",
              "1       492\n",
              "Name: Class, dtype: int64"
            ]
          },
          "metadata": {},
          "execution_count": 44
        }
      ]
    },
    {
      "cell_type": "code",
      "metadata": {
        "id": "dDv2NXzo8Qxw"
      },
      "source": [
        "cleaned_df = raw_df.copy()\n",
        "\n",
        "# time column을 삭제합니다.\n",
        "cleaned_df.pop(\"Time\")\n",
        "\n",
        "# amount feature은 범위가 매우 넓습니다. log-space로 변환합니다.\n",
        "eps = 0.001\n",
        "cleaned_df['Log_Amount'] = np.log(cleaned_df.pop('Amount') + eps)"
      ],
      "execution_count": 45,
      "outputs": []
    },
    {
      "cell_type": "markdown",
      "metadata": {
        "id": "80ywL82nwKfO"
      },
      "source": [
        "### **과제 내용:**\n",
        "\n",
        "1. 데이터를 train 및 test 데이터로 나눕니다. (비율은 8:2)\n",
        "\n",
        "  1-1. train/test데이터를 각각 X, y로 나누고(`.pop()`), numpy array로 변환합니다.(`np.array()`)\n",
        "\n",
        "  1-2. 아래 코드를 사용하여 데이터를 표준화합니다.\n",
        "    ```\n",
        "    from sklearn.preprocessing import StandardScaler\n",
        "    scaler = StandardScaler()\n",
        "    X_train = scaler.fit_transform(X_train)\n",
        "    X_test = scaler.transform(X_test)\n",
        "    X_train = np.clip(X_train, -5, 5)\n",
        "    X_test = np.clip(X_test, -5, 5)\n",
        "    ```\n",
        "\n",
        "  1-3. Scikit-learn의 [StandardScaler](https://scikit-learn.org/stable/modules/generated/sklearn.preprocessing.StandardScaler.html) 다큐멘테이션을 읽고 위 코드가 무엇을 하는지 서술합니다.\n",
        "  \n",
        "\n",
        "2. 현재까지 실습에서 다룬 classifier (`CategoricalNB`, `DecisionTreeClassifier`, `LogisticRegression`, `MLPClassifier`) 중 하나를 선택하여 모델을 생성합니다.\n",
        "\n",
        "3. 선택한 모델의 파라미터 중, 최소 두 개의 파라미터를 최소 두 개의 각기 다른 값으로 설정하여 아래 두 가지의 k-fold CV 방법으로 각각 훈련시켜봅니다.\n",
        "\n",
        "  3-1. Scikit-learn의 `Kfold`을 사용하여 해당 모델을 훈련시키고 평균 성능을 출력합니다.\n",
        "\n",
        "  3-2. Scikit-learn의 `StratifiedKFold`을 사용하여 해당 모델을 훈련시키고 평균 성능을 출력합니다.\n",
        "\n",
        "4. 2번 및 3번 과정에서 얻어진 최적의 파라미터로 최종 모델을 train 데이터에 학습시키고 test 데이터에 대하여 정확도를 출력합니다.\n",
        "\n",
        "5. confusion matrix을 출력하고, 이를 시각화합니다\n",
        "\n",
        "6. Precision-Recall curve을 시각화합니다\n",
        "\n",
        "7. ROC curve을 시각화합니다.\n",
        "\n",
        "8. AUC을 출력합니다.\n",
        "\n",
        "9. classification report을 출력합니다.\n",
        "\n",
        "10. 위의 결과를 바탕으로 모델이 불균형한 데이터의 관점으로 성능을 평가합니다. 정확도, precision, recall, f1 score, auc에 대한 분석과 더불어 precision-recall curve, roc curve에 대하여도 서술하여야 합니다."
      ]
    },
    {
      "cell_type": "code",
      "metadata": {
        "id": "TFCj0rzT0c-k"
      },
      "source": [
        "#1-1\n",
        "from sklearn.model_selection import train_test_split\n",
        "\n",
        "train_df, test_df = train_test_split(cleaned_df, test_size=0.2, random_state=42)\n",
        "y_train = np.array(train_df.pop('Class'))\n",
        "y_test = np.array(test_df.pop('Class'))\n",
        "X_train = np.array(train_df)\n",
        "X_test = np.array(test_df)"
      ],
      "execution_count": 46,
      "outputs": []
    },
    {
      "cell_type": "code",
      "source": [
        "#1-2\n",
        "from sklearn.preprocessing import StandardScaler\n",
        "scaler = StandardScaler()\n",
        "X_train = scaler.fit_transform(X_train)\n",
        "X_test = scaler.transform(X_test)\n",
        "X_train = np.clip(X_train, -5, 5)\n",
        "X_test = np.clip(X_test, -5, 5)"
      ],
      "metadata": {
        "id": "4Yt3pEWKZeyp"
      },
      "execution_count": 47,
      "outputs": []
    },
    {
      "cell_type": "markdown",
      "source": [
        "###1-3\n",
        "StandardScaler를 통해 데이터를 표준화한다. 코드는 train에 대해서만 fit_transform을 적용하고 test에 대해서는 fit을 적용하지 않는데, 이는 test에서는 train data의 평균값으로 적용해야하기 때문이다."
      ],
      "metadata": {
        "id": "TsViDJZyZxoU"
      }
    },
    {
      "cell_type": "code",
      "source": [
        "#2\n",
        "model_1 = MLPClassifier(random_state=42)"
      ],
      "metadata": {
        "id": "vxl3VmGT4nV8"
      },
      "execution_count": 68,
      "outputs": []
    },
    {
      "cell_type": "markdown",
      "source": [
        "###3-1"
      ],
      "metadata": {
        "id": "F2Cj8uIwwXkO"
      }
    },
    {
      "cell_type": "code",
      "source": [
        "import numpy as np\n",
        "from sklearn.neural_network import MLPClassifier\n",
        "from sklearn.model_selection import KFold\n",
        "\n",
        "hidden_nodes = [25, 50]\n",
        "lrs = [0.01, 0.015]\n",
        "\n",
        "best_acc = -1\n",
        "accs = []\n",
        "\n",
        "kf = KFold(n_splits=2)\n",
        "\n",
        "for train_index, test_index in kf.split(X_train):\n",
        "  X_train_kf, X_test_kf = X_train[train_index], X_train[test_index]\n",
        "  y_train_kf, y_test_kf = y_train[train_index], y_train[test_index]\n",
        "\n",
        "  for h in hidden_nodes:\n",
        "    for lr in lrs:\n",
        "      model_1 = MLPClassifier(hidden_layer_sizes=(h, ), learning_rate_init=lr, random_state=42)\n",
        "      model_1.fit(X_train_kf, y_train_kf)\n",
        "      cur_acc = model_1.score(X_test_kf, y_test_kf)\n",
        "      print(f'Accuracy of Current Model : {cur_acc}')\n",
        "      accs.append(cur_acc)\n",
        "      if cur_acc > best_acc:\n",
        "        best_acc = cur_acc\n",
        "        best_model_params = [h, lr]\n",
        "\n",
        "print(f'Average Accuracy of Models : {np.mean(accs)}')\n",
        "print(f'Accuracy of Best Model : {best_acc}')\n",
        "print(best_model_params)"
      ],
      "metadata": {
        "colab": {
          "base_uri": "https://localhost:8080/"
        },
        "id": "uwwb1gdaZ0Sq",
        "outputId": "47340dbe-5636-483a-f259-c93f9442d74d"
      },
      "execution_count": 48,
      "outputs": [
        {
          "output_type": "stream",
          "name": "stdout",
          "text": [
            "Accuracy of Current Model : 0.9994206613238766\n",
            "Accuracy of Current Model : 0.9992363262905647\n",
            "Accuracy of Current Model : 0.9992187705731064\n",
            "Accuracy of Current Model : 0.999315327019127\n",
            "Accuracy of Current Model : 0.9993153210091115\n",
            "Accuracy of Current Model : 0.9993240989448922\n",
            "Accuracy of Current Model : 0.9993328768806727\n",
            "Accuracy of Current Model : 0.9993943224311371\n",
            "Average Accuracy of Models : 0.999319713059061\n",
            "Accuracy of Best Model : 0.9994206613238766\n",
            "[25, 0.01]\n"
          ]
        }
      ]
    },
    {
      "cell_type": "markdown",
      "source": [
        "###3-2"
      ],
      "metadata": {
        "id": "5ytUjVPqwZ3X"
      }
    },
    {
      "cell_type": "code",
      "source": [
        "from sklearn.model_selection import StratifiedKFold\n",
        "\n",
        "hidden_nodes = [25, 50]\n",
        "lrs = [0.01, 0.015]\n",
        "\n",
        "accs = []\n",
        "\n",
        "kf = StratifiedKFold(n_splits=2, random_state=None, shuffle=False)\n",
        "\n",
        "for train_index, test_index in kf.split(X_train, y_train):\n",
        "  X_train_kf, X_test_kf = X_train[train_index], X_train[test_index]\n",
        "  y_train_kf, y_test_kf = y_train[train_index], y_train[test_index]\n",
        "\n",
        "  for h in hidden_nodes:\n",
        "    for lr in lrs:\n",
        "      model_1 = MLPClassifier(hidden_layer_sizes=(h, ), learning_rate_init=lr, random_state=42)\n",
        "      model_1.fit(X_train_kf, y_train_kf)\n",
        "      cur_acc = model_1.score(X_test_kf, y_test_kf)\n",
        "      print(f'Accuracy of Current Model : {cur_acc}')\n",
        "      accs.append(cur_acc)\n",
        "      if cur_acc > best_acc:\n",
        "        best_acc = cur_acc\n",
        "        best_model_params = [h, lr]\n",
        "\n",
        "print(f'Average Accuracy of Models : {np.mean(accs)}')\n",
        "print(f'Accuracy of Best Model : {best_acc}')\n",
        "print(best_model_params)"
      ],
      "metadata": {
        "colab": {
          "base_uri": "https://localhost:8080/"
        },
        "id": "xX1sDD8_ry3q",
        "outputId": "d1e46548-0c08-41ca-b28d-09176ad34723"
      },
      "execution_count": 50,
      "outputs": [
        {
          "output_type": "stream",
          "name": "stdout",
          "text": [
            "Accuracy of Current Model : 0.9992889934429395\n",
            "Accuracy of Current Model : 0.9992714377254812\n",
            "Accuracy of Current Model : 0.999315327019127\n",
            "Accuracy of Current Model : 0.9993241048778561\n",
            "Accuracy of Current Model : 0.9992714313302083\n",
            "Accuracy of Current Model : 0.9990783167430347\n",
            "Accuracy of Current Model : 0.9993240989448922\n",
            "Accuracy of Current Model : 0.9993416548164533\n",
            "Average Accuracy of Models : 0.999276920612499\n",
            "Accuracy of Best Model : 0.9994206613238766\n",
            "[25, 0.01]\n"
          ]
        }
      ]
    },
    {
      "cell_type": "code",
      "source": [
        "#4\n",
        "h, lr = best_model_params\n",
        "best_model = MLPClassifier(hidden_layer_sizes=(h, ), learning_rate_init=lr, random_state=42)\n",
        "best_model.fit(X_train, y_train)\n",
        "best_model.score(X_test, y_test)"
      ],
      "metadata": {
        "colab": {
          "base_uri": "https://localhost:8080/"
        },
        "id": "RqzmoUAVw7i1",
        "outputId": "367a526c-bdb2-46cd-a66c-09dae6b2df8c"
      },
      "execution_count": 53,
      "outputs": [
        {
          "output_type": "execute_result",
          "data": {
            "text/plain": [
              "0.9993153330290369"
            ]
          },
          "metadata": {},
          "execution_count": 53
        }
      ]
    },
    {
      "cell_type": "code",
      "source": [
        "#5\n",
        "from sklearn.metrics import confusion_matrix\n",
        "\n",
        "y_predict = best_model.predict(X_test)\n",
        "y_proba = best_model.predict_proba(X_test)[:, 1]\n",
        "confusion_matrix(y_test, y_predict)"
      ],
      "metadata": {
        "colab": {
          "base_uri": "https://localhost:8080/"
        },
        "id": "xcSnsS3yxzwC",
        "outputId": "c55de56d-d024-4776-915e-3bd83bbc740e"
      },
      "execution_count": 54,
      "outputs": [
        {
          "output_type": "execute_result",
          "data": {
            "text/plain": [
              "array([[56852,    12],\n",
              "       [   27,    71]])"
            ]
          },
          "metadata": {},
          "execution_count": 54
        }
      ]
    },
    {
      "cell_type": "code",
      "source": [
        "from sklearn.metrics import plot_confusion_matrix\n",
        "\n",
        "plot_confusion_matrix(best_model, X_test, y_test, normalize='all')"
      ],
      "metadata": {
        "colab": {
          "base_uri": "https://localhost:8080/",
          "height": 588
        },
        "id": "5wXkouKGyOO6",
        "outputId": "552320d9-74b7-4614-f237-e303664823d8"
      },
      "execution_count": 55,
      "outputs": [
        {
          "output_type": "stream",
          "name": "stderr",
          "text": [
            "/usr/local/lib/python3.7/dist-packages/sklearn/utils/deprecation.py:87: FutureWarning: Function plot_confusion_matrix is deprecated; Function `plot_confusion_matrix` is deprecated in 1.0 and will be removed in 1.2. Use one of the class methods: ConfusionMatrixDisplay.from_predictions or ConfusionMatrixDisplay.from_estimator.\n",
            "  warnings.warn(msg, category=FutureWarning)\n"
          ]
        },
        {
          "output_type": "execute_result",
          "data": {
            "text/plain": [
              "<sklearn.metrics._plot.confusion_matrix.ConfusionMatrixDisplay at 0x7f5181e54150>"
            ]
          },
          "metadata": {},
          "execution_count": 55
        },
        {
          "output_type": "display_data",
          "data": {
            "text/plain": [
              "<Figure size 842.4x595.44 with 2 Axes>"
            ],
            "image/png": "[encoded data removed]"
          },
          "metadata": {}
        }
      ]
    },
    {
      "cell_type": "code",
      "source": [
        "#6\n",
        "from sklearn.metrics import plot_precision_recall_curve\n",
        "\n",
        "plot_precision_recall_curve(best_model, X_test, y_test)"
      ],
      "metadata": {
        "colab": {
          "base_uri": "https://localhost:8080/",
          "height": 588
        },
        "id": "Q91Nyi5Xye2U",
        "outputId": "10ab11a8-33ce-41c0-cd25-55f246bf30f4"
      },
      "execution_count": 57,
      "outputs": [
        {
          "output_type": "stream",
          "name": "stderr",
          "text": [
            "/usr/local/lib/python3.7/dist-packages/sklearn/utils/deprecation.py:87: FutureWarning: Function plot_precision_recall_curve is deprecated; Function `plot_precision_recall_curve` is deprecated in 1.0 and will be removed in 1.2. Use one of the class methods: PrecisionRecallDisplay.from_predictions or PrecisionRecallDisplay.from_estimator.\n",
            "  warnings.warn(msg, category=FutureWarning)\n"
          ]
        },
        {
          "output_type": "execute_result",
          "data": {
            "text/plain": [
              "<sklearn.metrics._plot.precision_recall_curve.PrecisionRecallDisplay at 0x7f5181de8590>"
            ]
          },
          "metadata": {},
          "execution_count": 57
        },
        {
          "output_type": "display_data",
          "data": {
            "text/plain": [
              "<Figure size 842.4x595.44 with 1 Axes>"
            ],
            "image/png": "[encoded data removed]"
          },
          "metadata": {}
        }
      ]
    },
    {
      "cell_type": "code",
      "source": [
        "#7\n",
        "from sklearn.metrics import roc_curve\n",
        "\n",
        "plot_roc('ROC CURVE', y_test, y_proba)"
      ],
      "metadata": {
        "colab": {
          "base_uri": "https://localhost:8080/",
          "height": 517
        },
        "id": "GAkB4GgByu6S",
        "outputId": "511e58c7-dd37-4ad3-ed62-19a55637893b"
      },
      "execution_count": 59,
      "outputs": [
        {
          "output_type": "display_data",
          "data": {
            "text/plain": [
              "<Figure size 842.4x595.44 with 1 Axes>"
            ],
            "image/png": "[encoded data removed]"
          },
          "metadata": {}
        }
      ]
    },
    {
      "cell_type": "code",
      "source": [
        "#8\n",
        "from sklearn.metrics import roc_auc_score\n",
        "\n",
        "roc_auc_score(y_test, y_proba)"
      ],
      "metadata": {
        "colab": {
          "base_uri": "https://localhost:8080/"
        },
        "id": "ypkH1Pucy7y_",
        "outputId": "293a7997-f617-4194-a4f8-2e91ad679d79"
      },
      "execution_count": 60,
      "outputs": [
        {
          "output_type": "execute_result",
          "data": {
            "text/plain": [
              "0.9553768820415054"
            ]
          },
          "metadata": {},
          "execution_count": 60
        }
      ]
    },
    {
      "cell_type": "code",
      "source": [
        "#9\n",
        "from sklearn.metrics import classification_report\n",
        "\n",
        "print(classification_report(y_test, y_predict))"
      ],
      "metadata": {
        "colab": {
          "base_uri": "https://localhost:8080/"
        },
        "id": "nycelXkRzL1T",
        "outputId": "2d4a66e0-8858-40d4-e8e0-e5ba8a91677a"
      },
      "execution_count": 66,
      "outputs": [
        {
          "output_type": "stream",
          "name": "stdout",
          "text": [
            "              precision    recall  f1-score   support\n",
            "\n",
            "           0       1.00      1.00      1.00     56864\n",
            "           1       0.86      0.72      0.78        98\n",
            "\n",
            "    accuracy                           1.00     56962\n",
            "   macro avg       0.93      0.86      0.89     56962\n",
            "weighted avg       1.00      1.00      1.00     56962\n",
            "\n"
          ]
        }
      ]
    },
    {
      "cell_type": "markdown",
      "source": [
        "위의 결과를 바탕으로 모델이 불균형한 데이터의 관점으로 성능을 평가합니다. 정확도, precision, recall, f1 score, auc에 대한 분석과 더불어 precision-recall curve, roc curve에 대하여도 서술하여야 합니다."
      ],
      "metadata": {
        "id": "gYMFWV97z4tM"
      }
    },
    {
      "cell_type": "code",
      "source": [
        "#10\n",
        "from sklearn.metrics import accuracy_score, precision_score, recall_score, f1_score\n",
        "\n",
        "print(f'Accuracy : {accuracy_score(y_test, y_predict)}')\n",
        "print(f'Precision : {precision_score(y_test, y_predict)}')\n",
        "print(f'Recall : {recall_score(y_test, y_predict)}')\n",
        "print(f'f1 score : {f1_score(y_test, y_predict)}')\n",
        "print(f'AUC : {roc_auc_score(y_test, y_proba)}')"
      ],
      "metadata": {
        "colab": {
          "base_uri": "https://localhost:8080/"
        },
        "id": "Q1APpYV1zuSA",
        "outputId": "bff9df14-aae4-403c-9b48-60e31d3fcd6f"
      },
      "execution_count": 67,
      "outputs": [
        {
          "output_type": "stream",
          "name": "stdout",
          "text": [
            "Accuracy : 0.9993153330290369\n",
            "Precision : 0.8554216867469879\n",
            "Recall : 0.7244897959183674\n",
            "f1 score : 0.7845303867403315\n",
            "AUC : 0.9553768820415054\n"
          ]
        }
      ]
    },
    {
      "cell_type": "markdown",
      "source": [
        "score는 정확도를 의미하는데, F1 스코어는 recall과 precision의 조화평균이므로 biased data에서 의미있는 지표임을 고려할 때 0.7845는 높은 수치이고 이는 classification_report의 class 0와 class 1을 비교했을 때 0으로 편향되어있음을 통해 이해할 수 있다.\n",
        "또 classification_report에서 class 0에 대해 스코어가 높은 것은 분류가 올바르게 이뤄지고 있음을 뜻한다. 이에 반해 class 1에서는 precision의 수치가 0.86이고 recall이 0.72인 것으로 보아 class 1 중 72%만 올바르게 판별하고 class 1의 분류 중 실제 class 1의 비율은 86%이다. 이러한 결과를 바탕으로 분류기가 상대적으로 class 0의 분류에 특화되어 작동하고 있음을 알 수 있다.\n",
        "\n",
        "여러 지표들 가운데 precision-recall curve와 roc curve는 기준(threshold)에 따른 지표의 값을 보여준다. Precision-recall curve는 우상향할수록 좋고 roc curve는 좌측 상단에 가까울수록 성능이 좋다는 점을 고려했을 때, best_model은 이러한 property를 잘 만족하고 있으며, 1에 가까울수록 성능이이 좋은 auc 역시 0.9553이므로 좋은 성능의 모델이라 할 수 있다."
      ],
      "metadata": {
        "id": "awwjD6No1NRH"
      }
    },
    {
      "cell_type": "markdown",
      "source": [
        "# 실습 5차시 설문 조사\n",
        "\n",
        "실습 과제를 모두 마친 후 설문에 참여해주세요. \\\n",
        "링크: https://forms.gle/4vzb2tuDP7sfnJfcA\n",
        "\n",
        "※설문에 참여해주신 수강생분들 중 다섯 명을 추첨하여 작은 선물을 드릴 예정이오니, 수강생분들의 많은 참여 바랍니다.※"
      ],
      "metadata": {
        "id": "WgGkl7YeAygv"
      }
    }
  ]
}
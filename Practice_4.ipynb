{
  "nbformat": 4,
  "nbformat_minor": 0,
  "metadata": {
    "colab": {
      "provenance": [],
      "collapsed_sections": []
    },
    "kernelspec": {
      "name": "python3",
      "display_name": "Python 3"
    }
  },
  "cells": [
    {
      "cell_type": "markdown",
      "metadata": {
        "id": "v0XJQi1fFyUh"
      },
      "source": [
        "# 실습 4차시\n",
        "\n",
        "내용:\n",
        "*   Perceptron\n",
        "\n",
        "기한:\n",
        "**2022년 11월 3일 목요일 오후 1시 59분**"
      ]
    },
    {
      "cell_type": "markdown",
      "metadata": {
        "id": "HNNGYyQl4-3y"
      },
      "source": [
        " ## **퍼셉트론이란?**\n",
        "\n",
        "퍼셉트론은 신경망의 가장 기초가 되는 기본 단위입니다. 생물학적 뉴런의 작업을 시뮬레이션하는 인공 뉴런이라고 할 수 있습니다.\n",
        "\n",
        "퍼셉트론은 3가지 구성요소로 이루어져 있습니다.\n",
        "\n",
        "* 입력(Inputs)\n",
        "\n",
        "* 가중치(Weights)\n",
        "\n",
        "* 출력(Output)"
      ]
    },
    {
      "cell_type": "markdown",
      "metadata": {
        "id": "dzulLPtL5u72"
      },
      "source": [
        "## **Perceptron Class**\n",
        "\n",
        "Perceptron 클래스 작성하기"
      ]
    },
    {
      "cell_type": "code",
      "source": [
        "lines = []\n",
        "\n",
        "class Perceptron:\n",
        "  def __init__(self, num_inputs= 3, weights=[1, 1, 1]): #\n",
        "    self.num_inputs = num_inputs\n",
        "    self.weights = weights\n",
        "\n",
        "  def weighted_sum(self, inputs):\n",
        "    weighted_sum = 0\n",
        "    for i in range(self.num_inputs):\n",
        "      weighted_sum += inputs[i] * self.weights[i]\n",
        "    return weighted_sum\n",
        "\n",
        "  def activation(self, weighted_sum):\n",
        "    if weighted_sum >= 0:\n",
        "      return 1\n",
        "    else:\n",
        "      return -1\n",
        "\n",
        "  def training(self, training_set):\n",
        "    foundLine = False\n",
        "    while foundLine:\n",
        "      total_error = 0\n",
        "      for inputs in training_set:\n",
        "        prediction = self.activation(self.weighted_sum(inputs))\n",
        "        actual = training_set[inputs]\n",
        "        error = actual - prediction\n",
        "        total_error += abs(error)\n",
        "\n",
        "        for i in range(self.num_inputs):\n",
        "          self.weights[i] += error * inputs[i]\n",
        "\n",
        "      slope = -self.weights[0] / self.weights[1]\n",
        "      intercept = -self.weights[2] / self.weights[1]\n",
        "      y1 = (slope * 0) + intercept\n",
        "      y2 = (slope * 50) + intercept\n",
        "      lines.append([0, 50], [y1, y2])\n",
        "\n",
        "      if total_error == 0:\n",
        "        foundLine = True"
      ],
      "metadata": {
        "id": "2WMZmQFOxKGx"
      },
      "execution_count": 39,
      "outputs": []
    },
    {
      "cell_type": "code",
      "source": [
        "my_perceptron = Perceptron()\n",
        "small_dataset = {(0, 3):1, (3, 0):-1, (0, -3):-1, (-3, 0):1}\n",
        "\n",
        "my_perceptron.training(small_dataset)\n",
        "print(my_perceptron.weights)"
      ],
      "metadata": {
        "colab": {
          "base_uri": "https://localhost:8080/"
        },
        "id": "KLnqd2Wp1sws",
        "outputId": "927e436d-6803-4ae1-f995-1b7e56073fe6"
      },
      "execution_count": 40,
      "outputs": [
        {
          "output_type": "stream",
          "name": "stdout",
          "text": [
            "[1, 1, 1]\n"
          ]
        }
      ]
    },
    {
      "cell_type": "markdown",
      "metadata": {
        "id": "leCTBpND5y3Y"
      },
      "source": [
        "### **가중합(Weighted Sum) 구하기**\n",
        "\n",
        "입력과 가중치를 출력으로 변환하기 위해서는, 우선 각 입력에 대한 가중치를 더해서 가중합을 계산해야합니다.\n",
        "\n",
        "```\n",
        "weighted sum = x_1 * w_1 + x_2 * w_2 + ... + x_n * w_n\n",
        "```\n",
        "\n",
        "위 수식을 구현해봅니다."
      ]
    },
    {
      "cell_type": "markdown",
      "metadata": {
        "id": "djDRTtZ_7yMo"
      },
      "source": [
        "### **활성화 함수(Activation Function)**\n",
        "\n",
        "퍼셉트론의 출력은 앞에서 계산한 가중합으로부터 결과값을 생성함으로써 결정되게 됩니다. 결과값을 생성해주는 함수를 활성화 함수라고 합니다.\n",
        "\n",
        "다양한 활성화 함수들이 존재하는데, 이번 실습에서는 Step Activation Function을 사용합니다.\n",
        "\n",
        "* 입력에 대한 퍼셉트론의 가중합이 양수라면 1을 반환합니다.\n",
        "* 입력에 대한 퍼셉트론의 가중합이 음수라면 -1을 반환합니다.\n",
        "\n",
        "활성화 함수를 perceptron class에 구현해봅니다."
      ]
    },
    {
      "cell_type": "markdown",
      "metadata": {
        "id": "T6UaVfAdKNnU"
      },
      "source": [
        "![1_mW5C7-Wjr_jaGyFXMomH3Q.png](data:image/png;base64,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)"
      ]
    },
    {
      "cell_type": "markdown",
      "metadata": {
        "id": "9LLcd2oS9vto"
      },
      "source": [
        "### **오차(Error) 구하기**\n",
        "\n",
        "퍼셉트론의 출력값과 학습 데이터의 타겟값이 일치하지 않을 때, 오차를 구할 수 있습니다. 오차는 해당 모델과 실제 데이터간의 차이를 나타냅니다.\n",
        "\n",
        "우리의 목표는 퍼셉트론을 오차가 작아지는 방향으로 학습시키는 것입니다. 훈련 오차는 실제 레이블 값에서 예측된 레이블 값을 빼서 계산됩니다.\n",
        "\n",
        "```\n",
        "training error = actual label - predicted label\n",
        "```\n",
        "\n",
        "Step activation function을 사용하는 퍼셉트론이 만드는 오차는 다음의 네 가지 경우를 띕니다."
      ]
    },
    {
      "cell_type": "markdown",
      "metadata": {
        "id": "mdQQMQvb7nLg"
      },
      "source": [
        "![주석 2020-08-30 194654.png](data:image/png;base64,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)\n"
      ]
    },
    {
      "cell_type": "markdown",
      "metadata": {
        "id": "Y-f9YdtuQLHd"
      },
      "source": [
        "### **가중치 수정하기**\n",
        "\n",
        "퍼셉트론 학습의 목표는 가중치를 올바른 방향으로 수정해서, 정답을 출력하는 최적의 가중치를 찾는 것입니다.\n",
        "\n",
        "최적의 가중치를 찾는 방법 중, 가장 널리 사용되고 있는 것이 바로 경사하강법(Gradient Descent)입니다. 이번에 우리는 Step Activation Function을 사용하기 때문에, 경사하강법 중 Delta Rule을 통해 가중치를 학습시킬 것입니다."
      ]
    },
    {
      "cell_type": "markdown",
      "metadata": {
        "id": "VMUjjixa5N1h"
      },
      "source": [
        "![tweaking_the_weights.png](data:image/png;base64,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)"
      ]
    },
    {
      "cell_type": "markdown",
      "metadata": {
        "id": "jqCjJdwIQQWP"
      },
      "source": [
        "Delta rule은 다음의 간단한 규칙을 통해 가중치를 수정하게 됩니다.\n",
        "\n",
        "```\n",
        "weight = weight + learning rate * (error * input)\n",
        "```"
      ]
    },
    {
      "cell_type": "markdown",
      "metadata": {
        "id": "5BbPrWrQio8L"
      },
      "source": [
        "퍼셉트론은 모든 결과값을 정확하게 예측할 때까지 가중치를 계속 조정합니다. 그렇기 때문에 학습이 완료되기 전에 데이터셋을 여러번 반복하여 학습시켜야 할 수도 있습니다. 위 perceptron class에 학습시키는 코드를 수정해봅니다."
      ]
    },
    {
      "cell_type": "markdown",
      "metadata": {
        "id": "bjE-IQweTGbe"
      },
      "source": [
        "### **편향치(Bias)**\n",
        "\n",
        "그러나 퍼셉트론의 정확도를 높이기 위해 약간의 조정이 필요한 경우가 있습니다. 이를 위해 우리는 퍼셉트론에 편향치를 추가합니다.\n",
        "\n",
        "편향이 추가된 가중합의 식은 다음과 같습니다.\n",
        "\n",
        "```\n",
        "weighted sum = x_1 * w_1 + x_2 * w_2 + ... + x_n * w_n​ + w_b\n",
        "```\n",
        "\n",
        "다음 두 가지 변경사항만 고려하면 앞서 구현한 퍼셉트론에 편향을 적용할 수 있을 것입니다.\n",
        "\n",
        "* 입력 데이터의 마지막에 1을 추가합니다 (이제 2 대신 3 개의 입력이 있음).\n",
        "* 가중치 목록에 편향 가중치를 추가합니다 (이제 2 개 대신 3 개의 가중치가 있음).\n",
        "\n",
        "\n",
        "위 perceptron class에 해당 코드를 추가해봅니다."
      ]
    },
    {
      "cell_type": "markdown",
      "metadata": {
        "id": "FF1dHixuTmWP"
      },
      "source": [
        "### **퍼셉트론을 통한 선형 분류**\n",
        "\n",
        "퍼셉트론의 훈련 과정을 더 잘 이해하기 위해 퍼셉트론의 훈련 과정을 시각화 해봅니다.\n",
        "\n",
        "가중치는 훈련 과정 전반에 걸쳐 변경되므로 해당 가중치를 의미있게 시각화 할 수만 있다면 기울기-절편 형식을 사용하여 선을 나타낼 수 있다는 것을 알고있을 것입니다. 퍼셉트론의 가중치는 퍼셉트론이 나타내는 선의 기울기와 절편을 찾는 데 사용할 수 있습니다.\n",
        "\n",
        "* 기울기 = ```-self.weights[0] /self.weights[1]```\n",
        "* 절편 = ```-self.weights[2] /self.weights[1]```\n",
        "\n",
        "위 perceptron class에 해당 코드를 추가해봅니다."
      ]
    },
    {
      "cell_type": "markdown",
      "metadata": {
        "id": "WREMWi5e9WBV"
      },
      "source": [
        "### **퍼셉트론 학습시키기**\n",
        "\n",
        "실제 대부분의 기계학습에서 사용하는 데이터는 tabular 형태를 띄고 있지만, 이번 실습에서는 입력값과 출력값을 dictionary 형태로 표현한 데이터셋을 사용하도록 하겠습니다. 우리가 사용할 데이터셋은 다음과 같은 형태를 지닙니다.\n",
        "\n",
        "```\n",
        "training_set = {(18, 49): -1, (2, 17): 1, (24, 35): -1, (14, 26): 1, (17, 34): -1}\n",
        "```"
      ]
    },
    {
      "cell_type": "code",
      "metadata": {
        "id": "SJ59SabYSfok"
      },
      "source": [
        "# 다음 코드는 퍼셉트론에 학습시킬 데이터를 생성시켜주는 코드입니다. \n",
        "# 다음 코드를 실행시키고 해당 데이터의 특징을 살펴봅시다.\n",
        "\n",
        "import random\n",
        "\n",
        "def generate_training_set(num_points):\n",
        "\tx_coordinates = [random.randint(0, 50) for i in range(num_points)]\n",
        "\ty_coordinates = [random.randint(0, 50) for i in range(num_points)]\n",
        "\ttraining_set = dict()\n",
        "\tfor x, y in zip(x_coordinates, y_coordinates):\n",
        "\t\tif x <= 45-y:\n",
        "\t\t\ttraining_set[(x,y)] = 1\n",
        "\t\telif x > 45-y:\n",
        "\t\t\ttraining_set[(x,y)] = -1\n",
        "\treturn training_set"
      ],
      "execution_count": 41,
      "outputs": []
    },
    {
      "cell_type": "code",
      "metadata": {
        "id": "SQYyuq33Sg83"
      },
      "source": [
        "#training 데이터셋을 generate_training_set 함수를 사용하여 30개의 데이터를 생성합니다.\n",
        "training_set = generate_training_set(30)"
      ],
      "execution_count": 42,
      "outputs": []
    },
    {
      "cell_type": "code",
      "metadata": {
        "id": "fgSlYKLR9hcy",
        "colab": {
          "base_uri": "https://localhost:8080/",
          "height": 281
        },
        "outputId": "f8c8b72a-68bd-4e18-d76b-67c7a0c189f8"
      },
      "source": [
        "import seaborn\n",
        "import matplotlib.pyplot as plt\n",
        "\n",
        "x_plus = []\n",
        "y_plus = []\n",
        "x_minus = []\n",
        "y_minus = []\n",
        "\n",
        "for data in training_set:\n",
        "\tif training_set[data] == 1:\n",
        "\t\tx_plus.append(data[0])\n",
        "\t\ty_plus.append(data[1])\n",
        "\telif training_set[data] == -1:\n",
        "\t\tx_minus.append(data[0])\n",
        "\t\ty_minus.append(data[1])\n",
        "    \n",
        "fig = plt.figure()\n",
        "ax = plt.axes(xlim=(-25, 75), ylim=(-25, 75))\n",
        "\n",
        "plt.scatter(x_plus, y_plus, marker = '+', c = 'green', s = 128, linewidth = 2)\n",
        "plt.scatter(x_minus, y_minus, marker = '_', c = 'red', s = 128, linewidth = 2)\n",
        "\n",
        "plt.title(\"Training Set\")\n",
        "\n",
        "plt.show()"
      ],
      "execution_count": 43,
      "outputs": [
        {
          "output_type": "display_data",
          "data": {
            "text/plain": [
              "<Figure size 432x288 with 1 Axes>"
            ],
            "image/png": "[encoded data removed]"
          },
          "metadata": {
            "needs_background": "light"
          }
        }
      ]
    },
    {
      "cell_type": "code",
      "source": [
        "# 퍼셉트론을 만들고 데이터에 훈련시켜 봅니다.\n",
        "perceptron = Perceptron()\n",
        "perceptron"
      ],
      "metadata": {
        "id": "Ga9iFHvVz17b",
        "colab": {
          "base_uri": "https://localhost:8080/"
        },
        "outputId": "2861de0c-08c8-4d13-ade8-29d967db2abf"
      },
      "execution_count": 44,
      "outputs": [
        {
          "output_type": "execute_result",
          "data": {
            "text/plain": [
              "<__main__.Perceptron at 0x7f114f567550>"
            ]
          },
          "metadata": {},
          "execution_count": 44
        }
      ]
    },
    {
      "cell_type": "markdown",
      "source": [
        "아래 코드는 구현한 퍼셉트론이 가중치를 변화시켜가며 최적의 선을 그리는것을 시각화 한 것입니다."
      ],
      "metadata": {
        "id": "-EhQWh6v0FYi"
      }
    },
    {
      "cell_type": "code",
      "metadata": {
        "id": "xgASvJ0YTx5r",
        "colab": {
          "base_uri": "https://localhost:8080/",
          "height": 111
        },
        "outputId": "b3db5868-7290-4000-ccf2-26094baec922"
      },
      "source": [
        "import seaborn\n",
        "import matplotlib.pyplot as plt\n",
        "import matplotlib.animation as animation\n",
        "from matplotlib import rc\n",
        "from IPython.display import HTML\n",
        "import random\n",
        "\n",
        "x_plus = []\n",
        "y_plus = []\n",
        "x_minus = []\n",
        "y_minus = []\n",
        "\n",
        "for data in training_set:\n",
        "\tif training_set[data] == 1:\n",
        "\t\tx_plus.append(data[0])\n",
        "\t\ty_plus.append(data[1])\n",
        "\telif training_set[data] == -1:\n",
        "\t\tx_minus.append(data[0])\n",
        "\t\ty_minus.append(data[1])\n",
        "\n",
        "fig = plt.figure()\n",
        "ax = plt.axes(xlim=(-25, 75), ylim=(-25, 75))\n",
        "line, = ax.plot([], [], lw=2)\n",
        "\n",
        "fig.patch.set_facecolor('#ffc107')\n",
        "\n",
        "plt.scatter(x_plus, y_plus, marker = '+', c = 'green', s = 128, linewidth = 2)\n",
        "plt.scatter(x_minus, y_minus, marker = '_', c = 'red', s = 128, linewidth = 2)\n",
        "\n",
        "plt.title('Iteration: 0')\n",
        "plt.close()\n",
        "\n",
        "def animate(i):\n",
        "    print(i)\n",
        "    line.set_xdata(lines[i][0])  # update the data\n",
        "    line.set_ydata(lines[i][1])  # update the data\n",
        "    return line,\n",
        "\n",
        "def init():\n",
        "    line.set_data([], [])\n",
        "    return line,\n",
        "\n",
        "ani = animation.FuncAnimation(fig, animate, frames=len(lines), init_func=init, interval=100, blit=True, repeat=False)\n",
        "\n",
        "rc('animation', html='jshtml')\n",
        "ani"
      ],
      "execution_count": 45,
      "outputs": [
        {
          "output_type": "execute_result",
          "data": {
            "text/plain": [
              "<matplotlib.animation.FuncAnimation at 0x7f114f6b72d0>"
            ],
            "text/html": [
              "\n",
              "<link rel=\"stylesheet\"\n",
              "href=\"https://maxcdn.bootstrapcdn.com/font-awesome/4.4.0/\n",
              "css/font-awesome.min.css\">\n",
              "<script language=\"javascript\">\n",
              "  function isInternetExplorer() {\n",
              "    ua = navigator.userAgent;\n",
              "    /* MSIE used to detect old browsers and Trident used to newer ones*/\n",
              "    return ua.indexOf(\"MSIE \") > -1 || ua.indexOf(\"Trident/\") > -1;\n",
              "  }\n",
              "\n",
              "  /* Define the Animation class */\n",
              "  function Animation(frames, img_id, slider_id, interval, loop_select_id){\n",
              "    this.img_id = img_id;\n",
              "    this.slider_id = slider_id;\n",
              "    this.loop_select_id = loop_select_id;\n",
              "    this.interval = interval;\n",
              "    this.current_frame = 0;\n",
              "    this.direction = 0;\n",
              "    this.timer = null;\n",
              "    this.frames = new Array(frames.length);\n",
              "\n",
              "    for (var i=0; i<frames.length; i++)\n",
              "    {\n",
              "     this.frames[i] = new Image();\n",
              "     this.frames[i].src = frames[i];\n",
              "    }\n",
              "    var slider = document.getElementById(this.slider_id);\n",
              "    slider.max = this.frames.length - 1;\n",
              "    if (isInternetExplorer()) {\n",
              "        // switch from oninput to onchange because IE <= 11 does not conform\n",
              "        // with W3C specification. It ignores oninput and onchange behaves\n",
              "        // like oninput. In contrast, Mircosoft Edge behaves correctly.\n",
              "        slider.setAttribute('onchange', slider.getAttribute('oninput'));\n",
              "        slider.setAttribute('oninput', null);\n",
              "    }\n",
              "    this.set_frame(this.current_frame);\n",
              "  }\n",
              "\n",
              "  Animation.prototype.get_loop_state = function(){\n",
              "    var button_group = document[this.loop_select_id].state;\n",
              "    for (var i = 0; i < button_group.length; i++) {\n",
              "        var button = button_group[i];\n",
              "        if (button.checked) {\n",
              "            return button.value;\n",
              "        }\n",
              "    }\n",
              "    return undefined;\n",
              "  }\n",
              "\n",
              "  Animation.prototype.set_frame = function(frame){\n",
              "    this.current_frame = frame;\n",
              "    document.getElementById(this.img_id).src =\n",
              "            this.frames[this.current_frame].src;\n",
              "    document.getElementById(this.slider_id).value = this.current_frame;\n",
              "  }\n",
              "\n",
              "  Animation.prototype.next_frame = function()\n",
              "  {\n",
              "    this.set_frame(Math.min(this.frames.length - 1, this.current_frame + 1));\n",
              "  }\n",
              "\n",
              "  Animation.prototype.previous_frame = function()\n",
              "  {\n",
              "    this.set_frame(Math.max(0, this.current_frame - 1));\n",
              "  }\n",
              "\n",
              "  Animation.prototype.first_frame = function()\n",
              "  {\n",
              "    this.set_frame(0);\n",
              "  }\n",
              "\n",
              "  Animation.prototype.last_frame = function()\n",
              "  {\n",
              "    this.set_frame(this.frames.length - 1);\n",
              "  }\n",
              "\n",
              "  Animation.prototype.slower = function()\n",
              "  {\n",
              "    this.interval /= 0.7;\n",
              "    if(this.direction > 0){this.play_animation();}\n",
              "    else if(this.direction < 0){this.reverse_animation();}\n",
              "  }\n",
              "\n",
              "  Animation.prototype.faster = function()\n",
              "  {\n",
              "    this.interval *= 0.7;\n",
              "    if(this.direction > 0){this.play_animation();}\n",
              "    else if(this.direction < 0){this.reverse_animation();}\n",
              "  }\n",
              "\n",
              "  Animation.prototype.anim_step_forward = function()\n",
              "  {\n",
              "    this.current_frame += 1;\n",
              "    if(this.current_frame < this.frames.length){\n",
              "      this.set_frame(this.current_frame);\n",
              "    }else{\n",
              "      var loop_state = this.get_loop_state();\n",
              "      if(loop_state == \"loop\"){\n",
              "        this.first_frame();\n",
              "      }else if(loop_state == \"reflect\"){\n",
              "        this.last_frame();\n",
              "        this.reverse_animation();\n",
              "      }else{\n",
              "        this.pause_animation();\n",
              "        this.last_frame();\n",
              "      }\n",
              "    }\n",
              "  }\n",
              "\n",
              "  Animation.prototype.anim_step_reverse = function()\n",
              "  {\n",
              "    this.current_frame -= 1;\n",
              "    if(this.current_frame >= 0){\n",
              "      this.set_frame(this.current_frame);\n",
              "    }else{\n",
              "      var loop_state = this.get_loop_state();\n",
              "      if(loop_state == \"loop\"){\n",
              "        this.last_frame();\n",
              "      }else if(loop_state == \"reflect\"){\n",
              "        this.first_frame();\n",
              "        this.play_animation();\n",
              "      }else{\n",
              "        this.pause_animation();\n",
              "        this.first_frame();\n",
              "      }\n",
              "    }\n",
              "  }\n",
              "\n",
              "  Animation.prototype.pause_animation = function()\n",
              "  {\n",
              "    this.direction = 0;\n",
              "    if (this.timer){\n",
              "      clearInterval(this.timer);\n",
              "      this.timer = null;\n",
              "    }\n",
              "  }\n",
              "\n",
              "  Animation.prototype.play_animation = function()\n",
              "  {\n",
              "    this.pause_animation();\n",
              "    this.direction = 1;\n",
              "    var t = this;\n",
              "    if (!this.timer) this.timer = setInterval(function() {\n",
              "        t.anim_step_forward();\n",
              "    }, this.interval);\n",
              "  }\n",
              "\n",
              "  Animation.prototype.reverse_animation = function()\n",
              "  {\n",
              "    this.pause_animation();\n",
              "    this.direction = -1;\n",
              "    var t = this;\n",
              "    if (!this.timer) this.timer = setInterval(function() {\n",
              "        t.anim_step_reverse();\n",
              "    }, this.interval);\n",
              "  }\n",
              "</script>\n",
              "\n",
              "<style>\n",
              ".animation {\n",
              "    display: inline-block;\n",
              "    text-align: center;\n",
              "}\n",
              "input[type=range].anim-slider {\n",
              "    width: 374px;\n",
              "    margin-left: auto;\n",
              "    margin-right: auto;\n",
              "}\n",
              ".anim-buttons {\n",
              "    margin: 8px 0px;\n",
              "}\n",
              ".anim-buttons button {\n",
              "    padding: 0;\n",
              "    width: 36px;\n",
              "}\n",
              ".anim-state label {\n",
              "    margin-right: 8px;\n",
              "}\n",
              ".anim-state input {\n",
              "    margin: 0;\n",
              "    vertical-align: middle;\n",
              "}\n",
              "</style>\n",
              "\n",
              "<div class=\"animation\">\n",
              "  <img id=\"_anim_img7b9fbf34e1e5479089620748cacdca48\">\n",
              "  <div class=\"anim-controls\">\n",
              "    <input id=\"_anim_slider7b9fbf34e1e5479089620748cacdca48\" type=\"range\" class=\"anim-slider\"\n",
              "           name=\"points\" min=\"0\" max=\"1\" step=\"1\" value=\"0\"\n",
              "           oninput=\"anim7b9fbf34e1e5479089620748cacdca48.set_frame(parseInt(this.value));\"></input>\n",
              "    <div class=\"anim-buttons\">\n",
              "      <button onclick=\"anim7b9fbf34e1e5479089620748cacdca48.slower()\"><i class=\"fa fa-minus\"></i></button>\n",
              "      <button onclick=\"anim7b9fbf34e1e5479089620748cacdca48.first_frame()\"><i class=\"fa fa-fast-backward\">\n",
              "          </i></button>\n",
              "      <button onclick=\"anim7b9fbf34e1e5479089620748cacdca48.previous_frame()\">\n",
              "          <i class=\"fa fa-step-backward\"></i></button>\n",
              "      <button onclick=\"anim7b9fbf34e1e5479089620748cacdca48.reverse_animation()\">\n",
              "          <i class=\"fa fa-play fa-flip-horizontal\"></i></button>\n",
              "      <button onclick=\"anim7b9fbf34e1e5479089620748cacdca48.pause_animation()\"><i class=\"fa fa-pause\">\n",
              "          </i></button>\n",
              "      <button onclick=\"anim7b9fbf34e1e5479089620748cacdca48.play_animation()\"><i class=\"fa fa-play\"></i>\n",
              "          </button>\n",
              "      <button onclick=\"anim7b9fbf34e1e5479089620748cacdca48.next_frame()\"><i class=\"fa fa-step-forward\">\n",
              "          </i></button>\n",
              "      <button onclick=\"anim7b9fbf34e1e5479089620748cacdca48.last_frame()\"><i class=\"fa fa-fast-forward\">\n",
              "          </i></button>\n",
              "      <button onclick=\"anim7b9fbf34e1e5479089620748cacdca48.faster()\"><i class=\"fa fa-plus\"></i></button>\n",
              "    </div>\n",
              "    <form action=\"#n\" name=\"_anim_loop_select7b9fbf34e1e5479089620748cacdca48\" class=\"anim-state\">\n",
              "      <input type=\"radio\" name=\"state\" value=\"once\" id=\"_anim_radio1_7b9fbf34e1e5479089620748cacdca48\"\n",
              "             checked>\n",
              "      <label for=\"_anim_radio1_7b9fbf34e1e5479089620748cacdca48\">Once</label>\n",
              "      <input type=\"radio\" name=\"state\" value=\"loop\" id=\"_anim_radio2_7b9fbf34e1e5479089620748cacdca48\"\n",
              "             >\n",
              "      <label for=\"_anim_radio2_7b9fbf34e1e5479089620748cacdca48\">Loop</label>\n",
              "      <input type=\"radio\" name=\"state\" value=\"reflect\" id=\"_anim_radio3_7b9fbf34e1e5479089620748cacdca48\"\n",
              "             >\n",
              "      <label for=\"_anim_radio3_7b9fbf34e1e5479089620748cacdca48\">Reflect</label>\n",
              "    </form>\n",
              "  </div>\n",
              "</div>\n",
              "\n",
              "\n",
              "<script language=\"javascript\">\n",
              "  /* Instantiate the Animation class. */\n",
              "  /* The IDs given should match those used in the template above. */\n",
              "  (function() {\n",
              "    var img_id = \"_anim_img7b9fbf34e1e5479089620748cacdca48\";\n",
              "    var slider_id = \"_anim_slider7b9fbf34e1e5479089620748cacdca48\";\n",
              "    var loop_select_id = \"_anim_loop_select7b9fbf34e1e5479089620748cacdca48\";\n",
              "    var frames = new Array(0);\n",
              "    \n",
              "\n",
              "\n",
              "    /* set a timeout to make sure all the above elements are created before\n",
              "       the object is initialized. */\n",
              "    setTimeout(function() {\n",
              "        anim7b9fbf34e1e5479089620748cacdca48 = new Animation(frames, img_id, slider_id, 100.0,\n",
              "                                 loop_select_id);\n",
              "    }, 0);\n",
              "  })()\n",
              "</script>\n"
            ]
          },
          "metadata": {},
          "execution_count": 45
        }
      ]
    },
    {
      "cell_type": "markdown",
      "metadata": {
        "id": "qjfSuzvZlaqt"
      },
      "source": [
        "# 과제 1"
      ]
    },
    {
      "cell_type": "markdown",
      "metadata": {
        "id": "8f1_3bj-HetM"
      },
      "source": [
        "이번 과제에서는 AND, OR, XOR 데이터에 대해 Perceptron으로 분류해보도록 하겠습니다. 아래 함수들은 과제에서 시각화를 도와주는 함수들입니다.\n",
        "\n",
        "\n"
      ]
    },
    {
      "cell_type": "code",
      "metadata": {
        "id": "0HMZf245Ft3z"
      },
      "source": [
        "def plot_data(x, y):\n",
        "  plt.scatter([point[0] for point in x], [point[1] for point in x], c=y, cmap=ListedColormap(['#FF0000', '#0000FF']))\n",
        "  plt.show()"
      ],
      "execution_count": 46,
      "outputs": []
    },
    {
      "cell_type": "code",
      "metadata": {
        "id": "HTRvHdsrFeb1"
      },
      "source": [
        "from matplotlib.colors import ListedColormap\n",
        "\n",
        "# Perceptron의 decision boundary를 그려주는 함수입니다.\n",
        "# 함수 출처: http://scikit-learn.org/stable/auto_examples/classification/plot_classifier_comparison.html\n",
        "def plot_decision_boundary(classifier, X, y, title):\n",
        "  xmin, xmax = np.min(X[:, 0]) - 0.05, np.max(X[:, 0]) + 0.05\n",
        "  ymin, ymax = np.min(X[:, 1]) - 0.05, np.max(X[:, 1]) + 0.05\n",
        "  step = 0.01\n",
        "  cm = plt.cm.coolwarm_r\n",
        "  thr = 0.0\n",
        "  xx, yy = np.meshgrid(np.arange(xmin - thr, xmax + thr, step), np.arange(ymin - thr, ymax + thr, step))\n",
        "  if hasattr(classifier, 'decision_function'):\n",
        "    Z = classifier.decision_function(np.hstack((xx.ravel()[:, np.newaxis], yy.ravel()[:, np.newaxis])))\n",
        "  else:\n",
        "    Z = classifier.predict_proba(np.hstack((xx.ravel()[:, np.newaxis], yy.ravel()[:, np.newaxis])))[:, 1]\n",
        "  Z = Z.reshape(xx.shape)\n",
        "  plt.contourf(xx, yy, Z, cmap=cm, alpha=0.8)\n",
        "  plt.colorbar()\n",
        "  plt.scatter(X[:, 0], X[:, 1], c=y, cmap=ListedColormap(['#FF0000', '#0000FF']), alpha=0.6)\n",
        "  plt.xlim(xmin, xmax)\n",
        "  plt.ylim(ymin, ymax)\n",
        "  plt.xticks((0.0, 1.0))\n",
        "  plt.yticks((0.0, 1.0))\n",
        "  plt.title(title)"
      ],
      "execution_count": 47,
      "outputs": []
    },
    {
      "cell_type": "markdown",
      "metadata": {
        "id": "F_kv-z3sIDau"
      },
      "source": [
        "### **과제 1-1**\n",
        "\n",
        "AND 데이터에 대하여 아래와 같은 단계로 Perceptron을 훈련시키고 데이터를 분류하였습니다.\n",
        "\n",
        "1. 데이터를 생성합니다. (```and_data```, ```and_labels```)\n",
        "2. ```plot_data``` 함수를 사용하여 데이터 시각화해봅니다.\n",
        "3. scikit-learn의 Perceptron 모델을 생성하고 (모델의 이름은 ```perceptron_and```) 데이터에 ```.fit()```해봅니다. [다큐멘테이션](https://scikit-learn.org/stable/modules/generated/sklearn.linear_model.Perceptron.html)\n",
        "4. ```.score()```로 데이터에 대해 정확도를 출력합니다.\n",
        "5. ```plot_decision_boundary()``` 함수를 사용하여 훈련된 perceptron의 decision boundary를 시각화하고, **시각화된 plot을 바탕으로 올바르게 분류가 되었는지 서술합니다**."
      ]
    },
    {
      "cell_type": "code",
      "metadata": {
        "id": "Si2j-CWgthNf"
      },
      "source": [
        "import numpy as np"
      ],
      "execution_count": 48,
      "outputs": []
    },
    {
      "cell_type": "code",
      "metadata": {
        "id": "vdSVwZX73PsB"
      },
      "source": [
        "and_data = np.array([[0, 0], [1, 0], [0, 1], [1, 1]])\n",
        "and_labels = np.array([0, 0, 0, 1])"
      ],
      "execution_count": 49,
      "outputs": []
    },
    {
      "cell_type": "code",
      "source": [
        "plot_data(and_data, and_labels)"
      ],
      "metadata": {
        "id": "93rm_0DI0u-r",
        "colab": {
          "base_uri": "https://localhost:8080/",
          "height": 265
        },
        "outputId": "2e7ae6cb-f7b3-41ea-cb6a-120bcbfb7d83"
      },
      "execution_count": 50,
      "outputs": [
        {
          "output_type": "display_data",
          "data": {
            "text/plain": [
              "<Figure size 432x288 with 1 Axes>"
            ],
            "image/png": "[encoded data removed]"
          },
          "metadata": {
            "needs_background": "light"
          }
        }
      ]
    },
    {
      "cell_type": "code",
      "source": [
        "from sklearn.linear_model import Perceptron\n",
        "\n",
        "perceptron_and = Perceptron()\n",
        "perceptron_and.fit(and_data, and_labels)"
      ],
      "metadata": {
        "colab": {
          "base_uri": "https://localhost:8080/"
        },
        "id": "bjidSpaUyDkf",
        "outputId": "7c258879-7db7-46f3-dc44-a28d1cb83dda"
      },
      "execution_count": 51,
      "outputs": [
        {
          "output_type": "execute_result",
          "data": {
            "text/plain": [
              "Perceptron()"
            ]
          },
          "metadata": {},
          "execution_count": 51
        }
      ]
    },
    {
      "cell_type": "code",
      "source": [
        "perceptron_and.score(and_data, and_labels)"
      ],
      "metadata": {
        "colab": {
          "base_uri": "https://localhost:8080/"
        },
        "id": "c66Sg1PhyT15",
        "outputId": "c170e203-2797-4e12-a224-e199e26d7ea3"
      },
      "execution_count": 52,
      "outputs": [
        {
          "output_type": "execute_result",
          "data": {
            "text/plain": [
              "1.0"
            ]
          },
          "metadata": {},
          "execution_count": 52
        }
      ]
    },
    {
      "cell_type": "code",
      "source": [
        "plot_decision_boundary(perceptron_and, and_data, and_labels, \"Perceptron AND\")"
      ],
      "metadata": {
        "colab": {
          "base_uri": "https://localhost:8080/",
          "height": 281
        },
        "id": "Da3M4bCvyf0E",
        "outputId": "5a4638ac-e177-4a7d-9ed2-8069a2d12d00"
      },
      "execution_count": 53,
      "outputs": [
        {
          "output_type": "display_data",
          "data": {
            "text/plain": [
              "<Figure size 432x288 with 2 Axes>"
            ],
            "image/png": "[encoded data removed]"
          },
          "metadata": {
            "needs_background": "light"
          }
        }
      ]
    },
    {
      "cell_type": "code",
      "source": [
        "# 거리가 0인 색깔이 boundary므로 올바르게 분류되었다."
      ],
      "metadata": {
        "id": "11l2Z6yDzCbt"
      },
      "execution_count": 54,
      "outputs": []
    },
    {
      "cell_type": "markdown",
      "metadata": {
        "id": "M1sVgwNiJXz7"
      },
      "source": [
        "### **과제 1-2**\n",
        "\n",
        "OR 데이터에 대하여 아래 다섯 단계를 수행합니다.\n",
        "\n",
        "1. OR 데이터를 생성합니다. (```or_data```, ```or_labels```) \n",
        "2. ```plot_data``` 함수를 사용하여 데이터 시각화해봅니다.\n",
        "3. scikit-learn의 Perceptron 모델을 생성하고 (모델의 이름은 ```perceptron_or```) 데이터에 ```.fit()```해봅니다. [다큐멘테이션](https://scikit-learn.org/stable/modules/generated/sklearn.linear_model.Perceptron.html)\n",
        "4. ```.score()```로 데이터에 대해 정확도를 출력합니다.\n",
        "5. ```plot_decision_boundary()``` 함수를 사용하여 훈련된 perceptron의 decision boundary를 시각화하고 **시각화된 plot을 바탕으로 올바르게 분류가 되었는지 서술합니다**."
      ]
    },
    {
      "cell_type": "code",
      "metadata": {
        "id": "zJUq2Q6q8th4"
      },
      "source": [
        "#1\n",
        "import numpy as np\n",
        "\n",
        "or_data = np.array([[0, 0], [1, 0], [0, 1], [1, 1]])\n",
        "or_labels = np.array([0, 1, 1, 1])"
      ],
      "execution_count": 55,
      "outputs": []
    },
    {
      "cell_type": "code",
      "metadata": {
        "id": "-MN3md1F8tlT",
        "colab": {
          "base_uri": "https://localhost:8080/",
          "height": 265
        },
        "outputId": "62a4fdf2-fd14-496b-d501-9e8241b7d23f"
      },
      "source": [
        "#2\n",
        "plot_data(or_data, or_labels)"
      ],
      "execution_count": 56,
      "outputs": [
        {
          "output_type": "display_data",
          "data": {
            "text/plain": [
              "<Figure size 432x288 with 1 Axes>"
            ],
            "image/png": "[encoded data removed]"
          },
          "metadata": {
            "needs_background": "light"
          }
        }
      ]
    },
    {
      "cell_type": "code",
      "source": [
        "from sklearn.linear_model import Perceptron\n",
        "\n",
        "perceptron_or = Perceptron()\n",
        "perceptron_or.fit(or_data, or_labels)"
      ],
      "metadata": {
        "colab": {
          "base_uri": "https://localhost:8080/"
        },
        "id": "ECDS2-pozv8O",
        "outputId": "b22c3fda-854d-47d5-8ced-4de42a718740"
      },
      "execution_count": 57,
      "outputs": [
        {
          "output_type": "execute_result",
          "data": {
            "text/plain": [
              "Perceptron()"
            ]
          },
          "metadata": {},
          "execution_count": 57
        }
      ]
    },
    {
      "cell_type": "code",
      "source": [
        "perceptron_or.score(or_data, or_labels)"
      ],
      "metadata": {
        "colab": {
          "base_uri": "https://localhost:8080/"
        },
        "id": "nCHWFZyQz7pA",
        "outputId": "aa95106d-573b-42b8-b85a-4e10bbd5f241"
      },
      "execution_count": 58,
      "outputs": [
        {
          "output_type": "execute_result",
          "data": {
            "text/plain": [
              "1.0"
            ]
          },
          "metadata": {},
          "execution_count": 58
        }
      ]
    },
    {
      "cell_type": "code",
      "source": [
        "plot_decision_boundary(perceptron_or, or_data, or_labels, \"Perceptron OR\")"
      ],
      "metadata": {
        "colab": {
          "base_uri": "https://localhost:8080/",
          "height": 281
        },
        "id": "Wu-wvkkW0AYQ",
        "outputId": "1f2be5d9-4d2a-4e69-e7c2-6132f93d4523"
      },
      "execution_count": 59,
      "outputs": [
        {
          "output_type": "display_data",
          "data": {
            "text/plain": [
              "<Figure size 432x288 with 2 Axes>"
            ],
            "image/png": "[encoded data removed]"
          },
          "metadata": {
            "needs_background": "light"
          }
        }
      ]
    },
    {
      "cell_type": "code",
      "source": [
        "# 거리가 0인 색깔이 boundary므로 올바르게 분류되었다."
      ],
      "metadata": {
        "id": "CGg4c8hb0KGH"
      },
      "execution_count": 60,
      "outputs": []
    },
    {
      "cell_type": "markdown",
      "metadata": {
        "id": "9yMgBxlnJsmE"
      },
      "source": [
        "### **과제 1-3**\n",
        "\n",
        "XOR 데이터에 대하여 아래 다섯 단계를 수행합니다.\n",
        "\n",
        "1. 데이터를 생성합니다. (```xor_data```, ```xor_labels```)\n",
        "2. ```plot_data``` 함수를 사용하여 데이터 시각화해봅니다.\n",
        "3. scikit-learn의 Perceptron 모델을 생성하고 (모델의 이름은 ```perceptron_xor```) 데이터에 ```.fit()```해봅니다. [다큐멘테이션](https://scikit-learn.org/stable/modules/generated/sklearn.linear_model.Perceptron.html)\n",
        "4. ```.score()```로 데이터에 대해 정확도를 출력합니다.\n",
        "5. ```plot_decision_boundary()``` 함수를 사용하여 훈련된 perceptron의 decision boundary를 시각화하고 **시각화된 plot을 바탕으로 올바르게 분류가 되었는지 서술합니다**."
      ]
    },
    {
      "cell_type": "code",
      "metadata": {
        "id": "uM-GfPWZ8wbW"
      },
      "source": [
        "import numpy as np\n",
        "\n",
        "xor_data = np.array([[0, 0], [1, 0], [0, 1], [1, 1]])\n",
        "xor_labels = np.array([0, 1, 1, 0])"
      ],
      "execution_count": 61,
      "outputs": []
    },
    {
      "cell_type": "code",
      "metadata": {
        "id": "AQmDVl198zAj",
        "colab": {
          "base_uri": "https://localhost:8080/",
          "height": 265
        },
        "outputId": "7509d79f-1c56-4619-9e9f-0a1c767105a6"
      },
      "source": [
        "plot_data(xor_data, xor_labels)"
      ],
      "execution_count": 62,
      "outputs": [
        {
          "output_type": "display_data",
          "data": {
            "text/plain": [
              "<Figure size 432x288 with 1 Axes>"
            ],
            "image/png": "[encoded data removed]"
          },
          "metadata": {
            "needs_background": "light"
          }
        }
      ]
    },
    {
      "cell_type": "code",
      "source": [
        "from sklearn.linear_model import Perceptron\n",
        "\n",
        "perceptron_xor = Perceptron()\n",
        "perceptron_xor.fit(xor_data, xor_labels)"
      ],
      "metadata": {
        "colab": {
          "base_uri": "https://localhost:8080/"
        },
        "id": "MJMFR4z97zEW",
        "outputId": "eb53c3e4-3a0b-4294-bef1-2592f77721c0"
      },
      "execution_count": 63,
      "outputs": [
        {
          "output_type": "execute_result",
          "data": {
            "text/plain": [
              "Perceptron()"
            ]
          },
          "metadata": {},
          "execution_count": 63
        }
      ]
    },
    {
      "cell_type": "code",
      "source": [
        "perceptron_xor.score(xor_data, xor_labels)"
      ],
      "metadata": {
        "colab": {
          "base_uri": "https://localhost:8080/"
        },
        "id": "17JtOUds8Q7b",
        "outputId": "69228eaa-0905-4277-ce78-79e1084c6eb3"
      },
      "execution_count": 64,
      "outputs": [
        {
          "output_type": "execute_result",
          "data": {
            "text/plain": [
              "0.5"
            ]
          },
          "metadata": {},
          "execution_count": 64
        }
      ]
    },
    {
      "cell_type": "code",
      "source": [
        "plot_decision_boundary(perceptron_xor, xor_data, xor_labels, \"Perceptron XOR\")"
      ],
      "metadata": {
        "colab": {
          "base_uri": "https://localhost:8080/",
          "height": 281
        },
        "id": "UMGCYSJJ8bkJ",
        "outputId": "3e72e3b1-43ae-4551-8f90-2fdc5e02f6ae"
      },
      "execution_count": 65,
      "outputs": [
        {
          "output_type": "display_data",
          "data": {
            "text/plain": [
              "<Figure size 432x288 with 2 Axes>"
            ],
            "image/png": "[encoded data removed]"
          },
          "metadata": {
            "needs_background": "light"
          }
        }
      ]
    },
    {
      "cell_type": "code",
      "source": [
        "# 4개 중 2개밖에 분류할 수 밖에 없기때문에 올바르게 분류되지 못하였다."
      ],
      "metadata": {
        "id": "CndbFOzu8eyS"
      },
      "execution_count": 66,
      "outputs": []
    },
    {
      "cell_type": "markdown",
      "source": [
        "### **과제 1-4**\n",
        "\n",
        "XOR 데이터에 대해 scikit-learn의 `MLPClassifier` 모델을 여러개 훈련시키고 (모델의 이름은 `mlp_xor_n`, 여기서 `n`은 숫자입니다) 그 차이점을 분석해봅니다. [MLPClassifier 다큐멘테이션\u001c](https://scikit-learn.org/stable/modules/generated/sklearn.neural_network.MLPClassifier.html)\n",
        "\n",
        "1. `MLPClassifier`의 다큐멘테이션을 읽고 아래 질문에 대한 답변을 서술합니다.\n",
        "\n",
        "    1-1. `MLPClassifier` 모델의 기본 hidden layer size는 무엇입니까?\n",
        "\n",
        "    1-2. 기본 learning rate은 무엇입니까?\n",
        "\n",
        "    1-3. 기본 maximum iteration 횟수는 무엇입니까?\n",
        "\n",
        "    1-4. 해당 다큐멘테이션에서 `random_state` 파라미터가 존재하는 이유는 무엇입니까?\n",
        "\n",
        "2. 모델을 여러개 만들어 `hidden_layer_sizes` 파라미터를 다양하게 조정한 모델을 여러개 만들어 XOR 데이터에 `.fit()`해봅니다. (`random_state=42` 필수 지정)\n",
        "  \n",
        "    2-1. `hidden_layer_sizes` 파라미터를 **조정하지 않은** 모델의 정확도, decision boundary을 시각화합니다.\n",
        "\n",
        "    2-2. `hidden_layer_sizes` 파라미터의 hidden layer 개수와 neuron의 개수를 적절히 **많게** 설정하고 그 모델의 정확도, decision boundary을 시각화합니다.\n",
        "\n",
        "    2-3. `hidden_layer_sizes` 파라미터의 hidden layer 개수와 neuron의 개수를 적절히 **적게** 설정하고 그 모델의 정확도, decision boundary을 시각화합니다.\n",
        "\n",
        "    2-4. 과제 1-3의 결과와 어떤 차이점이 있는지 서술합니다.\n",
        "\n",
        "    2-5. 2-1, 2-2, 2-3에서 나온 decision boundary의 차이를 hidden layer의 dimension과 연관지어 비교해보고, 차이가 나는 이유를 서술해봅니다.\n",
        "\n"
      ],
      "metadata": {
        "id": "7WJ2OCq_VzTB"
      }
    },
    {
      "cell_type": "markdown",
      "source": [
        "1-4.\n",
        "1)\n",
        "1. 기본 hidden layer size는 (100, )이다.\n",
        "2. 기본 learning rate는 'constant'에 그것의 default 값은 0.001이다.\n",
        "3. 기본 maximum iteration은 200이다.\n",
        "4. random_state 파라미터가 존재하는 이유는 난수 생성을 통해 weight와 bias를 초기화하기 위함이며 특히 early stopping이 필요할때 train-test split에서 batch sampling을 결정한다."
      ],
      "metadata": {
        "id": "pq7Ozcos7PRv"
      }
    },
    {
      "cell_type": "code",
      "source": [
        "#2-1\n",
        "from sklearn.neural_network import MLPClassifier\n",
        "\n",
        "mlp_cf_default = MLPClassifier(random_state=42)\n",
        "mlp_cf_default.fit(xor_data, xor_labels)\n",
        "print(mlp_cf_default.score(xor_data, xor_labels))"
      ],
      "metadata": {
        "colab": {
          "base_uri": "https://localhost:8080/"
        },
        "id": "AofdKFzW7XcC",
        "outputId": "d6979bed-6952-402d-bad1-65eb31372b97"
      },
      "execution_count": 67,
      "outputs": [
        {
          "output_type": "stream",
          "name": "stdout",
          "text": [
            "1.0\n"
          ]
        },
        {
          "output_type": "stream",
          "name": "stderr",
          "text": [
            "/usr/local/lib/python3.7/dist-packages/sklearn/neural_network/_multilayer_perceptron.py:696: ConvergenceWarning: Stochastic Optimizer: Maximum iterations (200) reached and the optimization hasn't converged yet.\n",
            "  ConvergenceWarning,\n"
          ]
        }
      ]
    },
    {
      "cell_type": "code",
      "source": [
        "plot_decision_boundary(mlp_cf_default, xor_data, xor_labels, \"MLP Default\")"
      ],
      "metadata": {
        "colab": {
          "base_uri": "https://localhost:8080/",
          "height": 281
        },
        "id": "w2X_XQjeSYpy",
        "outputId": "61b4a916-90c3-4505-b2d1-a15e5e2d379b"
      },
      "execution_count": 68,
      "outputs": [
        {
          "output_type": "display_data",
          "data": {
            "text/plain": [
              "<Figure size 432x288 with 2 Axes>"
            ],
            "image/png": "[encoded data removed]"
          },
          "metadata": {
            "needs_background": "light"
          }
        }
      ]
    },
    {
      "cell_type": "code",
      "source": [
        "#2-2\n",
        "mlp_extended = MLPClassifier(hidden_layer_sizes=(150, 100, 75), random_state=42)\n",
        "mlp_extended.fit(xor_data, xor_labels)\n",
        "print(mlp_extended.score(xor_data, xor_labels))"
      ],
      "metadata": {
        "colab": {
          "base_uri": "https://localhost:8080/"
        },
        "id": "sj5T0Lb9CI1j",
        "outputId": "9fdc7916-319f-47e1-bd7f-dd70672bd50e"
      },
      "execution_count": 69,
      "outputs": [
        {
          "output_type": "stream",
          "name": "stdout",
          "text": [
            "1.0\n"
          ]
        }
      ]
    },
    {
      "cell_type": "code",
      "source": [
        "plot_decision_boundary(mlp_extended, xor_data, xor_labels, \"MLP Extended\")"
      ],
      "metadata": {
        "colab": {
          "base_uri": "https://localhost:8080/",
          "height": 281
        },
        "id": "2tmU09yVSx0_",
        "outputId": "3e6f6feb-272e-4434-a4fa-c7608b020f95"
      },
      "execution_count": 70,
      "outputs": [
        {
          "output_type": "display_data",
          "data": {
            "text/plain": [
              "<Figure size 432x288 with 2 Axes>"
            ],
            "image/png": "[encoded data removed]"
          },
          "metadata": {
            "needs_background": "light"
          }
        }
      ]
    },
    {
      "cell_type": "code",
      "source": [
        "#2-3\n",
        "mlp_shrink = MLPClassifier(hidden_layer_sizes=(75, 50), random_state=42)\n",
        "mlp_shrink.fit(xor_data, xor_labels)\n",
        "print(mlp_shrink.score(xor_data, xor_labels))"
      ],
      "metadata": {
        "colab": {
          "base_uri": "https://localhost:8080/"
        },
        "id": "z1tGksGGCMA2",
        "outputId": "40e42cbb-310f-4bfb-cae0-6bd6c1319b5a"
      },
      "execution_count": 71,
      "outputs": [
        {
          "output_type": "stream",
          "name": "stdout",
          "text": [
            "1.0\n"
          ]
        },
        {
          "output_type": "stream",
          "name": "stderr",
          "text": [
            "/usr/local/lib/python3.7/dist-packages/sklearn/neural_network/_multilayer_perceptron.py:696: ConvergenceWarning: Stochastic Optimizer: Maximum iterations (200) reached and the optimization hasn't converged yet.\n",
            "  ConvergenceWarning,\n"
          ]
        }
      ]
    },
    {
      "cell_type": "code",
      "source": [
        "plot_decision_boundary(mlp_shrink, xor_data, xor_labels, \"MLP Shrink\")"
      ],
      "metadata": {
        "colab": {
          "base_uri": "https://localhost:8080/",
          "height": 281
        },
        "id": "Z_xcuOvyTLv0",
        "outputId": "65429431-036c-4580-817d-96773aa443da"
      },
      "execution_count": 72,
      "outputs": [
        {
          "output_type": "display_data",
          "data": {
            "text/plain": [
              "<Figure size 432x288 with 2 Axes>"
            ],
            "image/png": "[encoded data removed]"
          },
          "metadata": {
            "needs_background": "light"
          }
        }
      ]
    },
    {
      "cell_type": "markdown",
      "source": [
        "2-4)\n",
        "MLP의 경우 Multi-layer이므로 linearity가 깨지게된다. 과제 1.1~1.3에서는 decision boundary가 linear하게 나타나고, 특히 과제 1.3에서는 linear로 classify를 하려다보니 정확한 분류에 실패하였는데, MLP는 non-linearity가 가능하여 정확한 classify가 가능하다. 즉, MLP의 plot에서 decision boundary가 linear하지 않다."
      ],
      "metadata": {
        "id": "WcrsJlPnCUHO"
      }
    },
    {
      "cell_type": "markdown",
      "source": [
        "2-5)\n",
        "hidden layer size가 커질수록 non-linearity가 많이 부여됨에 따라 높은 확률의 area가 넓어지고 boundary가 더 멀리 나아가는 양상을 가진다."
      ],
      "metadata": {
        "id": "qGlemiwCCU8G"
      }
    },
    {
      "cell_type": "markdown",
      "metadata": {
        "id": "z8Tz8qS4zvc8"
      },
      "source": [
        "# **과제 2**\n",
        "\n",
        "1. 3차시 과제와 동일한 방식으로 titanic 데이터를 전처리합니다.\n",
        "\n",
        "    - 사용 column: `Pclass`, `Sex`, `Age`, `SibSp`, `Parch`, `Fare`, `Embarked`, `Survived`\n",
        "    - NA가 있는 열 drop 하기\n",
        "    - `Sex` feature 정수형으로 인코딩\n",
        "    - `Embarked` feature one-hot으로 인코딩\n",
        "    - `x` 와 `y` 를 분리 (`y`은 `Survived` feature)\n",
        "    - 데이터를 train와 test 데이터로 split (`random_state=42`)\n",
        "\n",
        "2. scikit-learn의 MLPClassifier을 사용하여 classification을 합니다. [다큐멘테이션](https://scikit-learn.org/stable/modules/generated/sklearn.neural_network.MLPClassifier.html)\n",
        "\n",
        "3. 어떠한 모델 파라미터도 조정하지 않은 baseline ```MLPClassifier``` 모델을 생성하고 훈련시켜 테스트 데이터에 대한 정확도를 출력합니다.\n",
        "\n",
        "4. 두번째 `MLPClassifier` 모델을 생성합니다. 이번에는 다큐멘테이션을 읽고 모델 파라미터를 조정합니다. 조정하는 파라미터는 ```hidden_layer_sizes```, ```activation```, ```learning_rate_init```, ```max_iter``` 입니다. 네가지 파라미터를 모두 조정하여도 되고 이 중 선택하여 조정하여도 됩니다. 이 모델이 baseline 모델보다 테스트 데이터에 대해 정확도가 높게 나오도록 파라미터를 조정해야 합니다. 두번째 모델에 대한 정확도 또한 출력합니다.\n",
        "\n",
        "5. 모델 파라미터를 어떻게 조정하여 정확도를 높일 수 있었는지 서술합니다."
      ]
    },
    {
      "cell_type": "code",
      "metadata": {
        "id": "et-zqTFTzwo5"
      },
      "source": [
        "import pandas as pd\n",
        "from sklearn.preprocessing import LabelEncoder\n",
        "from sklearn.model_selection import train_test_split\n",
        "data_url = \"https://raw.githubusercontent.com/inikoreaackr/ml_datasets/main/titanic.csv\"\n",
        "data = pd.read_csv(data_url)"
      ],
      "execution_count": 73,
      "outputs": []
    },
    {
      "cell_type": "code",
      "source": [
        "data = data[['Pclass', 'Sex', 'Age', 'SibSp', 'Parch', 'Fare', 'Embarked', 'Survived']]\n",
        "data = data.dropna()\n",
        "label_encoder = LabelEncoder()\n",
        "data.Sex = label_encoder.fit_transform(data.Sex)\n",
        "data = pd.concat([data, pd.get_dummies(data['Embarked'], prefix='Embarked')], axis=1).drop(['Embarked'], axis=1)\n",
        "\n",
        "y = data[['Survived']].to_numpy().ravel()\n",
        "x = data.drop(columns=['Survived'])\n",
        "x_train, x_test, y_train, y_test = train_test_split(x, y, test_size=.3, random_state=42)"
      ],
      "metadata": {
        "id": "JSskhyLkTIvF"
      },
      "execution_count": 74,
      "outputs": []
    },
    {
      "cell_type": "code",
      "source": [
        "from sklearn.neural_network import MLPClassifier\n",
        "\n",
        "mlp_cf = MLPClassifier(random_state=42)\n",
        "mlp_cf.fit(x_train, y_train)\n",
        "print(mlp_cf.score(x_test, y_test))"
      ],
      "metadata": {
        "colab": {
          "base_uri": "https://localhost:8080/"
        },
        "id": "sV1aMzOJ1m7q",
        "outputId": "4d66f649-57e8-4992-8ac6-986b134417cc"
      },
      "execution_count": 75,
      "outputs": [
        {
          "output_type": "stream",
          "name": "stdout",
          "text": [
            "0.7429906542056075\n"
          ]
        },
        {
          "output_type": "stream",
          "name": "stderr",
          "text": [
            "/usr/local/lib/python3.7/dist-packages/sklearn/neural_network/_multilayer_perceptron.py:696: ConvergenceWarning: Stochastic Optimizer: Maximum iterations (200) reached and the optimization hasn't converged yet.\n",
            "  ConvergenceWarning,\n"
          ]
        }
      ]
    },
    {
      "cell_type": "code",
      "source": [
        "hidden_layer_sizes = [100, 200, 300, 400]\n",
        "max_iters = [1000, 2000, 3000, 4000]\n",
        "lrs = [0.005, 0.01, 0.015]\n",
        "\n",
        "best_acc = -1\n",
        "\n",
        "for h in hidden_layer_sizes:\n",
        "  for i in max_iters:\n",
        "    for lr in lrs:\n",
        "      mlp_cf_tuned = MLPClassifier(hidden_layer_sizes=(h, ), max_iter=i, learning_rate_init=lr, activation='relu', random_state=42)\n",
        "      mlp_cf_tuned.fit(x_train, y_train)\n",
        "      cur_acc = mlp_cf_tuned.score(x_test, y_test)\n",
        "      if cur_acc > best_acc:\n",
        "        best_acc = cur_acc\n",
        "        best_model_params = [h, i, lr]\n",
        "\n",
        "print(best_acc)\n",
        "print(best_model_params)"
      ],
      "metadata": {
        "colab": {
          "base_uri": "https://localhost:8080/"
        },
        "id": "nQPT60KI2ds7",
        "outputId": "a90a4bf0-6a39-4cbb-81b2-e1a54df1c039"
      },
      "execution_count": 76,
      "outputs": [
        {
          "output_type": "stream",
          "name": "stdout",
          "text": [
            "0.794392523364486\n",
            "[400, 1000, 0.005]\n"
          ]
        }
      ]
    },
    {
      "cell_type": "markdown",
      "source": [
        "2-5.\n",
        "모델에 적합할 것으로 예측되는 파라미터를 리스트에 저장하고 반복문을 활용하여 각 파라미터 조합에 의해 만들어지는 모델들을 생성하고 정확도를 비교한다. 이처럼 parameter tuning test를 통해 생성된 모델 중 가장 높은 정확도를 보인 모델을 채택함으로써 모델의 정확도를 높일 수 있다. 위 코드에서는 hidden layer의 size, max iteration, learning rate를 조정하는데, 각 값이 400, 1000, 0.005일때가 테스팅에서 가장 높은 성능을 보였다."
      ],
      "metadata": {
        "id": "Q7jEDIPsCcai"
      }
    },
    {
      "cell_type": "markdown",
      "source": [
        "# 실습 4차시 설문 조사\n",
        "\n",
        "실습 과제를 모두 마친 후 설문에 참여해주세요. \\\n",
        "링크: https://forms.gle/t7hF3ZPyJ6Li4Voq7\n",
        "\n",
        "※설문에 참여해주신 수강생분들 중 다섯 명을 추첨하여 작은 선물을 드릴 예정이오니, 수강생분들의 많은 참여 바랍니다.※"
      ],
      "metadata": {
        "id": "gL0tTPi3nabi"
      }
    },
    {
      "cell_type": "code",
      "source": [],
      "metadata": {
        "id": "Oydkv7jlnlS-"
      },
      "execution_count": 76,
      "outputs": []
    }
  ]
}